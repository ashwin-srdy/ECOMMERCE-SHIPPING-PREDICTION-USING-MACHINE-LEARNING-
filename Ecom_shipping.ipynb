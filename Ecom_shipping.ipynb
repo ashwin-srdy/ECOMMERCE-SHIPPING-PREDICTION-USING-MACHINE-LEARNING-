{
 "cells": [
  {
   "cell_type": "markdown",
   "id": "df7bd62a",
   "metadata": {},
   "source": [
    "\"\"\"Ecommerce shipping prediction is the process of estimating the wheteher the product reached on time. which is  based on various factors such as the origin and destination of the package, the shipping method selected by the customer, the carrier used for shipping, and any potential delays or issues that may arise during the shipping process.\n",
    "Machine learning models can be used to make accurate predictions about shipping times based on historical data and real-time updates from carriers. These models may take into account factors such as weather conditions, traffic, and other external factors that can impact delivery times.\n",
    "Over All Ecommerce shipping prediction is an important tool for ecommerce businesses that want to provide accurate delivery estimates to their customers and improve their overall customer experience.\"\"\""
   ]
  },
  {
   "cell_type": "code",
   "execution_count": 1,
   "id": "3c5fcf34",
   "metadata": {},
   "outputs": [],
   "source": [
    "import matplotlib.pyplot as plt\n",
    "import pandas as pd\n",
    "import numpy as np\n",
    "from sklearn.ensemble import RandomForestClassifier as skrfc\n",
    "from sklearn.datasets import make_classification\n",
    "from sklearn.model_selection import train_test_split\n",
    "from sklearn.preprocessing import MinMaxScaler, StandardScaler\n",
    "from sklearn.neighbors import KNeighborsClassifier, KNeighborsRegressor\n",
    "from sklearn.ensemble import RandomForestClassifier, RandomForestRegressor\n",
    "from sklearn.linear_model import LogisticRegression, LinearRegression, LogisticRegressionCV, SGDClassifier, RidgeClassifier\n",
    "from sklearn.metrics import accuracy_score, r2_score, mean_squared_error, mean_absolute_error, f1_score\n",
    "from sklearn.model_selection import train_test_split, cross_validate, GridSearchCV, RandomizedSearchCV\n",
    "from sklearn.feature_selection import SelectKBest, f_regression\n",
    "from sklearn import svm, linear_model\n",
    "from sklearn.pipeline import make_pipeline\n",
    "from xgboost import XGBClassifier"
   ]
  },
  {
   "cell_type": "code",
   "execution_count": 2,
   "id": "2e9d13f8",
   "metadata": {},
   "outputs": [
    {
     "data": {
      "text/html": [
       "<div>\n",
       "<style scoped>\n",
       "    .dataframe tbody tr th:only-of-type {\n",
       "        vertical-align: middle;\n",
       "    }\n",
       "\n",
       "    .dataframe tbody tr th {\n",
       "        vertical-align: top;\n",
       "    }\n",
       "\n",
       "    .dataframe thead th {\n",
       "        text-align: right;\n",
       "    }\n",
       "</style>\n",
       "<table border=\"1\" class=\"dataframe\">\n",
       "  <thead>\n",
       "    <tr style=\"text-align: right;\">\n",
       "      <th></th>\n",
       "      <th>ID</th>\n",
       "      <th>Warehouse_block</th>\n",
       "      <th>Mode_of_Shipment</th>\n",
       "      <th>Customer_care_calls</th>\n",
       "      <th>Customer_rating</th>\n",
       "      <th>Cost_of_the_Product</th>\n",
       "      <th>Prior_purchases</th>\n",
       "      <th>Product_importance</th>\n",
       "      <th>Gender</th>\n",
       "      <th>Discount_offered</th>\n",
       "      <th>Weight_in_gms</th>\n",
       "      <th>Reached.on.Time_Y.N</th>\n",
       "    </tr>\n",
       "  </thead>\n",
       "  <tbody>\n",
       "    <tr>\n",
       "      <th>0</th>\n",
       "      <td>1</td>\n",
       "      <td>D</td>\n",
       "      <td>Flight</td>\n",
       "      <td>4</td>\n",
       "      <td>2</td>\n",
       "      <td>177</td>\n",
       "      <td>3</td>\n",
       "      <td>low</td>\n",
       "      <td>F</td>\n",
       "      <td>44</td>\n",
       "      <td>1233</td>\n",
       "      <td>1</td>\n",
       "    </tr>\n",
       "    <tr>\n",
       "      <th>1</th>\n",
       "      <td>2</td>\n",
       "      <td>F</td>\n",
       "      <td>Flight</td>\n",
       "      <td>4</td>\n",
       "      <td>5</td>\n",
       "      <td>216</td>\n",
       "      <td>2</td>\n",
       "      <td>low</td>\n",
       "      <td>M</td>\n",
       "      <td>59</td>\n",
       "      <td>3088</td>\n",
       "      <td>1</td>\n",
       "    </tr>\n",
       "    <tr>\n",
       "      <th>2</th>\n",
       "      <td>3</td>\n",
       "      <td>A</td>\n",
       "      <td>Flight</td>\n",
       "      <td>2</td>\n",
       "      <td>2</td>\n",
       "      <td>183</td>\n",
       "      <td>4</td>\n",
       "      <td>low</td>\n",
       "      <td>M</td>\n",
       "      <td>48</td>\n",
       "      <td>3374</td>\n",
       "      <td>1</td>\n",
       "    </tr>\n",
       "    <tr>\n",
       "      <th>3</th>\n",
       "      <td>4</td>\n",
       "      <td>B</td>\n",
       "      <td>Flight</td>\n",
       "      <td>3</td>\n",
       "      <td>3</td>\n",
       "      <td>176</td>\n",
       "      <td>4</td>\n",
       "      <td>medium</td>\n",
       "      <td>M</td>\n",
       "      <td>10</td>\n",
       "      <td>1177</td>\n",
       "      <td>1</td>\n",
       "    </tr>\n",
       "    <tr>\n",
       "      <th>4</th>\n",
       "      <td>5</td>\n",
       "      <td>C</td>\n",
       "      <td>Flight</td>\n",
       "      <td>2</td>\n",
       "      <td>2</td>\n",
       "      <td>184</td>\n",
       "      <td>3</td>\n",
       "      <td>medium</td>\n",
       "      <td>F</td>\n",
       "      <td>46</td>\n",
       "      <td>2484</td>\n",
       "      <td>1</td>\n",
       "    </tr>\n",
       "  </tbody>\n",
       "</table>\n",
       "</div>"
      ],
      "text/plain": [
       "   ID Warehouse_block Mode_of_Shipment  Customer_care_calls  Customer_rating  \\\n",
       "0   1               D           Flight                    4                2   \n",
       "1   2               F           Flight                    4                5   \n",
       "2   3               A           Flight                    2                2   \n",
       "3   4               B           Flight                    3                3   \n",
       "4   5               C           Flight                    2                2   \n",
       "\n",
       "   Cost_of_the_Product  Prior_purchases Product_importance Gender  \\\n",
       "0                  177                3                low      F   \n",
       "1                  216                2                low      M   \n",
       "2                  183                4                low      M   \n",
       "3                  176                4             medium      M   \n",
       "4                  184                3             medium      F   \n",
       "\n",
       "   Discount_offered  Weight_in_gms  Reached.on.Time_Y.N  \n",
       "0                44           1233                    1  \n",
       "1                59           3088                    1  \n",
       "2                48           3374                    1  \n",
       "3                10           1177                    1  \n",
       "4                46           2484                    1  "
      ]
     },
     "execution_count": 2,
     "metadata": {},
     "output_type": "execute_result"
    }
   ],
   "source": [
    "data = pd.read_csv('Train.csv')\n",
    "data.head()"
   ]
  },
  {
   "cell_type": "code",
   "execution_count": 10,
   "id": "423e8949",
   "metadata": {},
   "outputs": [
    {
     "name": "stdout",
     "output_type": "stream",
     "text": [
      "<class 'pandas.core.frame.DataFrame'>\n",
      "RangeIndex: 10999 entries, 0 to 10998\n",
      "Data columns (total 12 columns):\n",
      " #   Column               Non-Null Count  Dtype \n",
      "---  ------               --------------  ----- \n",
      " 0   ID                   10999 non-null  int64 \n",
      " 1   Warehouse_block      10999 non-null  object\n",
      " 2   Mode_of_Shipment     10999 non-null  object\n",
      " 3   Customer_care_calls  10999 non-null  int64 \n",
      " 4   Customer_rating      10999 non-null  int64 \n",
      " 5   Cost_of_the_Product  10999 non-null  int64 \n",
      " 6   Prior_purchases      10999 non-null  int64 \n",
      " 7   Product_importance   10999 non-null  object\n",
      " 8   Gender               10999 non-null  object\n",
      " 9   Discount_offered     10999 non-null  int64 \n",
      " 10  Weight_in_gms        10999 non-null  int64 \n",
      " 11  Reached.on.Time_Y.N  10999 non-null  int64 \n",
      "dtypes: int64(8), object(4)\n",
      "memory usage: 1.0+ MB\n"
     ]
    }
   ],
   "source": [
    "data.info()"
   ]
  },
  {
   "cell_type": "code",
   "execution_count": 11,
   "id": "4cd43bca",
   "metadata": {},
   "outputs": [
    {
     "data": {
      "text/plain": [
       "['Warehouse_block',\n",
       " 'Mode_of_Shipment',\n",
       " 'Product_importance',\n",
       " 'Gender',\n",
       " 'Reached.on.Time_Y.N',\n",
       " 'ID']"
      ]
     },
     "execution_count": 11,
     "metadata": {},
     "output_type": "execute_result"
    }
   ],
   "source": [
    "['Warehouse_block','Mode_of_Shipment','Product_importance','Gender','Reached.on.Time_Y.N','ID']"
   ]
  },
  {
   "cell_type": "code",
   "execution_count": 3,
   "id": "456d0082",
   "metadata": {},
   "outputs": [
    {
     "name": "stderr",
     "output_type": "stream",
     "text": [
      "<>:4: SyntaxWarning: \"is\" with a literal. Did you mean \"==\"?\n",
      "<>:4: SyntaxWarning: \"is\" with a literal. Did you mean \"==\"?\n",
      "C:\\Users\\ashwi\\AppData\\Local\\Temp\\ipykernel_5716\\1465132513.py:4: SyntaxWarning: \"is\" with a literal. Did you mean \"==\"?\n",
      "  if str(data[i].dtype) is 'object':\n"
     ]
    },
    {
     "data": {
      "text/plain": [
       "{'Warehouse_block': {'D': 0, 'F': 1, 'A': 2, 'B': 3, 'C': 4},\n",
       " 'Mode_of_Shipment': {'Flight': 0, 'Ship': 1, 'Road': 2},\n",
       " 'Product_importance': {'low': 0, 'medium': 1, 'high': 2},\n",
       " 'Gender': {'F': 0, 'M': 1}}"
      ]
     },
     "execution_count": 3,
     "metadata": {},
     "output_type": "execute_result"
    }
   ],
   "source": [
    "# Label Mapping\n",
    "label_map={}\n",
    "for i in data.columns:\n",
    "    if str(data[i].dtype) is 'object':\n",
    "        temp={}\n",
    "        cats=data[i].unique()\n",
    "        for index in range(len(cats)):\n",
    "            temp[cats[index]]=index\n",
    "        label_map[i]=temp\n",
    "        #labeling\n",
    "        data[i]=data[i].map(temp)\n",
    "label_map"
   ]
  },
  {
   "cell_type": "code",
   "execution_count": 13,
   "id": "ec373ee9",
   "metadata": {},
   "outputs": [
    {
     "data": {
      "text/html": [
       "<div>\n",
       "<style scoped>\n",
       "    .dataframe tbody tr th:only-of-type {\n",
       "        vertical-align: middle;\n",
       "    }\n",
       "\n",
       "    .dataframe tbody tr th {\n",
       "        vertical-align: top;\n",
       "    }\n",
       "\n",
       "    .dataframe thead th {\n",
       "        text-align: right;\n",
       "    }\n",
       "</style>\n",
       "<table border=\"1\" class=\"dataframe\">\n",
       "  <thead>\n",
       "    <tr style=\"text-align: right;\">\n",
       "      <th></th>\n",
       "      <th>ID</th>\n",
       "      <th>Warehouse_block</th>\n",
       "      <th>Mode_of_Shipment</th>\n",
       "      <th>Customer_care_calls</th>\n",
       "      <th>Customer_rating</th>\n",
       "      <th>Cost_of_the_Product</th>\n",
       "      <th>Prior_purchases</th>\n",
       "      <th>Product_importance</th>\n",
       "      <th>Gender</th>\n",
       "      <th>Discount_offered</th>\n",
       "      <th>Weight_in_gms</th>\n",
       "      <th>Reached.on.Time_Y.N</th>\n",
       "    </tr>\n",
       "  </thead>\n",
       "  <tbody>\n",
       "    <tr>\n",
       "      <th>ID</th>\n",
       "      <td>1.000000</td>\n",
       "      <td>0.000078</td>\n",
       "      <td>0.002758</td>\n",
       "      <td>0.188998</td>\n",
       "      <td>-0.005722</td>\n",
       "      <td>0.196791</td>\n",
       "      <td>0.145369</td>\n",
       "      <td>-0.056137</td>\n",
       "      <td>-0.001695</td>\n",
       "      <td>-0.598278</td>\n",
       "      <td>0.278312</td>\n",
       "      <td>-0.411822</td>\n",
       "    </tr>\n",
       "    <tr>\n",
       "      <th>Warehouse_block</th>\n",
       "      <td>0.000078</td>\n",
       "      <td>1.000000</td>\n",
       "      <td>0.001093</td>\n",
       "      <td>-0.005694</td>\n",
       "      <td>-0.006191</td>\n",
       "      <td>0.012304</td>\n",
       "      <td>-0.003886</td>\n",
       "      <td>0.006375</td>\n",
       "      <td>0.006213</td>\n",
       "      <td>-0.001249</td>\n",
       "      <td>0.000904</td>\n",
       "      <td>0.000128</td>\n",
       "    </tr>\n",
       "    <tr>\n",
       "      <th>Mode_of_Shipment</th>\n",
       "      <td>0.002758</td>\n",
       "      <td>0.001093</td>\n",
       "      <td>1.000000</td>\n",
       "      <td>-0.010264</td>\n",
       "      <td>0.002590</td>\n",
       "      <td>0.006913</td>\n",
       "      <td>0.002700</td>\n",
       "      <td>-0.007679</td>\n",
       "      <td>-0.017499</td>\n",
       "      <td>-0.001303</td>\n",
       "      <td>0.003489</td>\n",
       "      <td>-0.007797</td>\n",
       "    </tr>\n",
       "    <tr>\n",
       "      <th>Customer_care_calls</th>\n",
       "      <td>0.188998</td>\n",
       "      <td>-0.005694</td>\n",
       "      <td>-0.010264</td>\n",
       "      <td>1.000000</td>\n",
       "      <td>0.012209</td>\n",
       "      <td>0.323182</td>\n",
       "      <td>0.180771</td>\n",
       "      <td>-0.058134</td>\n",
       "      <td>0.002545</td>\n",
       "      <td>-0.130750</td>\n",
       "      <td>-0.276615</td>\n",
       "      <td>-0.067126</td>\n",
       "    </tr>\n",
       "    <tr>\n",
       "      <th>Customer_rating</th>\n",
       "      <td>-0.005722</td>\n",
       "      <td>-0.006191</td>\n",
       "      <td>0.002590</td>\n",
       "      <td>0.012209</td>\n",
       "      <td>1.000000</td>\n",
       "      <td>0.009270</td>\n",
       "      <td>0.013179</td>\n",
       "      <td>0.003999</td>\n",
       "      <td>0.002775</td>\n",
       "      <td>-0.003124</td>\n",
       "      <td>-0.001897</td>\n",
       "      <td>0.013119</td>\n",
       "    </tr>\n",
       "    <tr>\n",
       "      <th>Cost_of_the_Product</th>\n",
       "      <td>0.196791</td>\n",
       "      <td>0.012304</td>\n",
       "      <td>0.006913</td>\n",
       "      <td>0.323182</td>\n",
       "      <td>0.009270</td>\n",
       "      <td>1.000000</td>\n",
       "      <td>0.123676</td>\n",
       "      <td>-0.046789</td>\n",
       "      <td>0.019759</td>\n",
       "      <td>-0.138312</td>\n",
       "      <td>-0.132604</td>\n",
       "      <td>-0.073587</td>\n",
       "    </tr>\n",
       "    <tr>\n",
       "      <th>Prior_purchases</th>\n",
       "      <td>0.145369</td>\n",
       "      <td>-0.003886</td>\n",
       "      <td>0.002700</td>\n",
       "      <td>0.180771</td>\n",
       "      <td>0.013179</td>\n",
       "      <td>0.123676</td>\n",
       "      <td>1.000000</td>\n",
       "      <td>0.027317</td>\n",
       "      <td>-0.009395</td>\n",
       "      <td>-0.082769</td>\n",
       "      <td>-0.168213</td>\n",
       "      <td>-0.055515</td>\n",
       "    </tr>\n",
       "    <tr>\n",
       "      <th>Product_importance</th>\n",
       "      <td>-0.056137</td>\n",
       "      <td>0.006375</td>\n",
       "      <td>-0.007679</td>\n",
       "      <td>-0.058134</td>\n",
       "      <td>0.003999</td>\n",
       "      <td>-0.046789</td>\n",
       "      <td>0.027317</td>\n",
       "      <td>1.000000</td>\n",
       "      <td>-0.002974</td>\n",
       "      <td>0.026023</td>\n",
       "      <td>0.093211</td>\n",
       "      <td>0.020517</td>\n",
       "    </tr>\n",
       "    <tr>\n",
       "      <th>Gender</th>\n",
       "      <td>-0.001695</td>\n",
       "      <td>0.006213</td>\n",
       "      <td>-0.017499</td>\n",
       "      <td>0.002545</td>\n",
       "      <td>0.002775</td>\n",
       "      <td>0.019759</td>\n",
       "      <td>-0.009395</td>\n",
       "      <td>-0.002974</td>\n",
       "      <td>1.000000</td>\n",
       "      <td>-0.011777</td>\n",
       "      <td>0.003573</td>\n",
       "      <td>0.004689</td>\n",
       "    </tr>\n",
       "    <tr>\n",
       "      <th>Discount_offered</th>\n",
       "      <td>-0.598278</td>\n",
       "      <td>-0.001249</td>\n",
       "      <td>-0.001303</td>\n",
       "      <td>-0.130750</td>\n",
       "      <td>-0.003124</td>\n",
       "      <td>-0.138312</td>\n",
       "      <td>-0.082769</td>\n",
       "      <td>0.026023</td>\n",
       "      <td>-0.011777</td>\n",
       "      <td>1.000000</td>\n",
       "      <td>-0.376067</td>\n",
       "      <td>0.397108</td>\n",
       "    </tr>\n",
       "    <tr>\n",
       "      <th>Weight_in_gms</th>\n",
       "      <td>0.278312</td>\n",
       "      <td>0.000904</td>\n",
       "      <td>0.003489</td>\n",
       "      <td>-0.276615</td>\n",
       "      <td>-0.001897</td>\n",
       "      <td>-0.132604</td>\n",
       "      <td>-0.168213</td>\n",
       "      <td>0.093211</td>\n",
       "      <td>0.003573</td>\n",
       "      <td>-0.376067</td>\n",
       "      <td>1.000000</td>\n",
       "      <td>-0.268793</td>\n",
       "    </tr>\n",
       "    <tr>\n",
       "      <th>Reached.on.Time_Y.N</th>\n",
       "      <td>-0.411822</td>\n",
       "      <td>0.000128</td>\n",
       "      <td>-0.007797</td>\n",
       "      <td>-0.067126</td>\n",
       "      <td>0.013119</td>\n",
       "      <td>-0.073587</td>\n",
       "      <td>-0.055515</td>\n",
       "      <td>0.020517</td>\n",
       "      <td>0.004689</td>\n",
       "      <td>0.397108</td>\n",
       "      <td>-0.268793</td>\n",
       "      <td>1.000000</td>\n",
       "    </tr>\n",
       "  </tbody>\n",
       "</table>\n",
       "</div>"
      ],
      "text/plain": [
       "                           ID  Warehouse_block  Mode_of_Shipment  \\\n",
       "ID                   1.000000         0.000078          0.002758   \n",
       "Warehouse_block      0.000078         1.000000          0.001093   \n",
       "Mode_of_Shipment     0.002758         0.001093          1.000000   \n",
       "Customer_care_calls  0.188998        -0.005694         -0.010264   \n",
       "Customer_rating     -0.005722        -0.006191          0.002590   \n",
       "Cost_of_the_Product  0.196791         0.012304          0.006913   \n",
       "Prior_purchases      0.145369        -0.003886          0.002700   \n",
       "Product_importance  -0.056137         0.006375         -0.007679   \n",
       "Gender              -0.001695         0.006213         -0.017499   \n",
       "Discount_offered    -0.598278        -0.001249         -0.001303   \n",
       "Weight_in_gms        0.278312         0.000904          0.003489   \n",
       "Reached.on.Time_Y.N -0.411822         0.000128         -0.007797   \n",
       "\n",
       "                     Customer_care_calls  Customer_rating  \\\n",
       "ID                              0.188998        -0.005722   \n",
       "Warehouse_block                -0.005694        -0.006191   \n",
       "Mode_of_Shipment               -0.010264         0.002590   \n",
       "Customer_care_calls             1.000000         0.012209   \n",
       "Customer_rating                 0.012209         1.000000   \n",
       "Cost_of_the_Product             0.323182         0.009270   \n",
       "Prior_purchases                 0.180771         0.013179   \n",
       "Product_importance             -0.058134         0.003999   \n",
       "Gender                          0.002545         0.002775   \n",
       "Discount_offered               -0.130750        -0.003124   \n",
       "Weight_in_gms                  -0.276615        -0.001897   \n",
       "Reached.on.Time_Y.N            -0.067126         0.013119   \n",
       "\n",
       "                     Cost_of_the_Product  Prior_purchases  Product_importance  \\\n",
       "ID                              0.196791         0.145369           -0.056137   \n",
       "Warehouse_block                 0.012304        -0.003886            0.006375   \n",
       "Mode_of_Shipment                0.006913         0.002700           -0.007679   \n",
       "Customer_care_calls             0.323182         0.180771           -0.058134   \n",
       "Customer_rating                 0.009270         0.013179            0.003999   \n",
       "Cost_of_the_Product             1.000000         0.123676           -0.046789   \n",
       "Prior_purchases                 0.123676         1.000000            0.027317   \n",
       "Product_importance             -0.046789         0.027317            1.000000   \n",
       "Gender                          0.019759        -0.009395           -0.002974   \n",
       "Discount_offered               -0.138312        -0.082769            0.026023   \n",
       "Weight_in_gms                  -0.132604        -0.168213            0.093211   \n",
       "Reached.on.Time_Y.N            -0.073587        -0.055515            0.020517   \n",
       "\n",
       "                       Gender  Discount_offered  Weight_in_gms  \\\n",
       "ID                  -0.001695         -0.598278       0.278312   \n",
       "Warehouse_block      0.006213         -0.001249       0.000904   \n",
       "Mode_of_Shipment    -0.017499         -0.001303       0.003489   \n",
       "Customer_care_calls  0.002545         -0.130750      -0.276615   \n",
       "Customer_rating      0.002775         -0.003124      -0.001897   \n",
       "Cost_of_the_Product  0.019759         -0.138312      -0.132604   \n",
       "Prior_purchases     -0.009395         -0.082769      -0.168213   \n",
       "Product_importance  -0.002974          0.026023       0.093211   \n",
       "Gender               1.000000         -0.011777       0.003573   \n",
       "Discount_offered    -0.011777          1.000000      -0.376067   \n",
       "Weight_in_gms        0.003573         -0.376067       1.000000   \n",
       "Reached.on.Time_Y.N  0.004689          0.397108      -0.268793   \n",
       "\n",
       "                     Reached.on.Time_Y.N  \n",
       "ID                             -0.411822  \n",
       "Warehouse_block                 0.000128  \n",
       "Mode_of_Shipment               -0.007797  \n",
       "Customer_care_calls            -0.067126  \n",
       "Customer_rating                 0.013119  \n",
       "Cost_of_the_Product            -0.073587  \n",
       "Prior_purchases                -0.055515  \n",
       "Product_importance              0.020517  \n",
       "Gender                          0.004689  \n",
       "Discount_offered                0.397108  \n",
       "Weight_in_gms                  -0.268793  \n",
       "Reached.on.Time_Y.N             1.000000  "
      ]
     },
     "execution_count": 13,
     "metadata": {},
     "output_type": "execute_result"
    }
   ],
   "source": [
    "data.corr()"
   ]
  },
  {
   "cell_type": "code",
   "execution_count": 14,
   "id": "8421a7fc",
   "metadata": {},
   "outputs": [
    {
     "name": "stdout",
     "output_type": "stream",
     "text": [
      "Customer_care_calls\n",
      "    0 are over the upper bound: 8.0\n",
      "    0 are less than the lower bound: 0.0 \n",
      "\n",
      "Customer_rating\n",
      "    0 are over the upper bound: 7.0\n",
      "    0 are less than the lower bound: -1.0 \n",
      "\n",
      "Cost_of_the_Product\n",
      "    0 are over the upper bound: 374.0\n",
      "    0 are less than the lower bound: 46.0 \n",
      "\n",
      "Prior_purchases\n",
      "    1003 are over the upper bound: 5.5\n",
      "    0 are less than the lower bound: 1.5 \n",
      "\n",
      "Discount_offered\n",
      "    2262 are over the upper bound: 19.0\n",
      "    0 are less than the lower bound: -5.0 \n",
      "\n",
      "Weight_in_gms\n",
      "    0 are over the upper bound: 9865.75\n",
      "    0 are less than the lower bound: -2976.25 \n",
      "\n"
     ]
    }
   ],
   "source": [
    "def check_outliers(arr):\n",
    "    Q1 = np.percentile(arr, 25,interpolation = 'midpoint')\n",
    "    Q3 = np.percentile(arr, 75,interpolation = 'midpoint')\n",
    "    IQR = Q3 - Q1\n",
    "    \n",
    "    #Above Upper bound\n",
    "    upper=Q3+1.5*IQR\n",
    "    upper_array=np.array(arr>=upper)\n",
    "    print(' '*3,len(upper_array[upper_array == True]),'are over the upper bound:',upper)\n",
    "\n",
    "    #Below Lower bound\n",
    "    lower=Q1-1.5*IQR\n",
    "    lower_array=np.array(arr<=lower)\n",
    "    print(' '*3,len(lower_array[lower_array == True]),'are less than the lower bound:',lower,'\\n')\n",
    "\n",
    "for i in data.drop(columns=[\n",
    "                            'Warehouse_block','Mode_of_Shipment','Product_importance','Gender','Reached.on.Time_Y.N','ID'\n",
    "                           ]).columns:\n",
    "    if str(data[i].dtype)=='object':\n",
    "        continue\n",
    "    print(i)\n",
    "    check_outliers(data[i])"
   ]
  },
  {
   "cell_type": "markdown",
   "id": "b30bb44f",
   "metadata": {},
   "source": [
    "# Train test split"
   ]
  },
  {
   "cell_type": "code",
   "execution_count": 4,
   "id": "f28dea72",
   "metadata": {},
   "outputs": [
    {
     "name": "stdout",
     "output_type": "stream",
     "text": [
      "(8799, 10)\n",
      "(2200, 10)\n",
      "(8799,)\n",
      "(2200,)\n"
     ]
    }
   ],
   "source": [
    "x_train, x_test, y_train, y_test = train_test_split(\n",
    "                                        data.drop(columns=['ID','Reached.on.Time_Y.N']),\n",
    "                                        data['Reached.on.Time_Y.N'],\n",
    "                                        random_state=1234,test_size = 0.20,\n",
    "                                        shuffle=True\n",
    "                                        )\n",
    "print(x_train.shape)\n",
    "print(x_test.shape)\n",
    "print(y_train.shape)\n",
    "print(y_test.shape)"
   ]
  },
  {
   "cell_type": "markdown",
   "id": "146d5a1f",
   "metadata": {},
   "source": [
    "# Training Function"
   ]
  },
  {
   "cell_type": "code",
   "execution_count": 69,
   "id": "6085a262",
   "metadata": {},
   "outputs": [],
   "source": [
    "def models_eval_sc(x_train,y_train,x_test,y_test):\n",
    "    \n",
    "    lg = make_pipeline(StandardScaler(),LogisticRegression(random_state=1234))\n",
    "    lg.fit(x_train,y_train)\n",
    "    print('--Logistic Regression')\n",
    "    print('Train Score:',lg.score(x_train,y_train))\n",
    "    print('Test Score:',lg.score(x_test,y_test))\n",
    "    print()\n",
    "    \n",
    "    lcv = make_pipeline(StandardScaler(),LogisticRegressionCV(random_state=1234))\n",
    "    lcv.fit(x_train,y_train)\n",
    "    print('--Logistic Regression CV')\n",
    "    print('Train Score:',lcv.score(x_train,y_train))\n",
    "    print('Test Score:',lcv.score(x_test,y_test))\n",
    "    print()\n",
    "    \n",
    "    print('--XGBoost')\n",
    "    xgb = make_pipeline(StandardScaler(),XGBClassifier(n_estimators=300,n_jobs=-1,random_state=1234))\n",
    "    xgb.fit(x_train,y_train)\n",
    "    print('Train Score:',xgb.score(x_train,y_train))\n",
    "    print('Test Score:',xgb.score(x_test,y_test))\n",
    "    print()\n",
    "    \n",
    "    print('--Ridge Classifier')\n",
    "    rg = make_pipeline(StandardScaler(),RidgeClassifier(random_state=1234))\n",
    "    rg.fit(x_train,y_train)\n",
    "    print('Train Score:',rg.score(x_train,y_train))\n",
    "    print('Test Score:',rg.score(x_test,y_test))\n",
    "    print()\n",
    "    \n",
    "    print('--KNN')\n",
    "    knn = make_pipeline(StandardScaler(),KNeighborsClassifier())\n",
    "    knn.fit(x_train,y_train)\n",
    "    print('Train Score:',knn.score(x_train,y_train))\n",
    "    print('Test Score:',knn.score(x_test,y_test))\n",
    "    print()\n",
    "    \n",
    "    print('--Random Forest')\n",
    "    rf = make_pipeline(StandardScaler(),RandomForestClassifier(random_state=1234))\n",
    "    rf.fit(x_train,y_train)\n",
    "    print('Train Score:',rf.score(x_train,y_train))\n",
    "    print('Test Score:',rf.score(x_test,y_test))\n",
    "    print()\n",
    "    \n",
    "    return lg,lcv,xgb,rg,knn,rf"
   ]
  },
  {
   "cell_type": "code",
   "execution_count": 70,
   "id": "c10bfcb9",
   "metadata": {},
   "outputs": [],
   "source": [
    "def models_eval_mm(x_train,y_train,x_test,y_test):\n",
    "    lg = LogisticRegression(random_state=1234)\n",
    "    lg.fit(x_train,y_train)\n",
    "    print('--Logistic Regression')\n",
    "    print('Train Score:',lg.score(x_train,y_train))\n",
    "    print('Test Score:',lg.score(x_test,y_test))\n",
    "    print()\n",
    "    \n",
    "    lcv = LogisticRegressionCV(random_state=1234)\n",
    "    lcv.fit(x_train,y_train)\n",
    "    print('--Logistic Regression CV')\n",
    "    print('Train Score:',lcv.score(x_train,y_train))\n",
    "    print('Test Score:',lcv.score(x_test,y_test))\n",
    "    print()\n",
    "    \n",
    "    print('--XGBoost')\n",
    "    xgb = XGBClassifier(n_estimators=300,n_jobs=-1,random_state=1234) \n",
    "    xgb.fit(x_train,y_train)\n",
    "    print('Train Score:',xgb.score(x_train,y_train))\n",
    "    print('Test Score:',xgb.score(x_test,y_test))\n",
    "    print()\n",
    "    \n",
    "    print('--Ridge Classifier')\n",
    "    rg = RidgeClassifier(random_state=1234)\n",
    "    rg.fit(x_train,y_train)\n",
    "    print('Train Score:',rg.score(x_train,y_train))\n",
    "    print('Test Score:',rg.score(x_test,y_test))\n",
    "    print()\n",
    "    \n",
    "    print('--KNN')\n",
    "    knn = KNeighborsClassifier()\n",
    "    knn.fit(x_train,y_train)\n",
    "    print('Train Score:',knn.score(x_train,y_train))\n",
    "    print('Test Score:',knn.score(x_test,y_test))\n",
    "    print()\n",
    "    \n",
    "    print('--Random Forest')\n",
    "    rf = RandomForestClassifier(random_state=1234)\n",
    "    rf.fit(x_train,y_train)\n",
    "    print('Train Score:',rf.score(x_train,y_train))\n",
    "    print('Test Score:',rf.score(x_test,y_test))\n",
    "    print()\n",
    "    return lg,lcv,xgb,rg,knn,rf"
   ]
  },
  {
   "cell_type": "markdown",
   "id": "5e39d050",
   "metadata": {},
   "source": [
    "# Training after standard scaling"
   ]
  },
  {
   "cell_type": "code",
   "execution_count": 71,
   "id": "aafab120",
   "metadata": {},
   "outputs": [
    {
     "name": "stdout",
     "output_type": "stream",
     "text": [
      "--Logistic Regression\n",
      "Train Score: 0.6403000340947835\n",
      "Test Score: 0.6427272727272727\n",
      "\n",
      "--Logistic Regression CV\n",
      "Train Score: 0.6412092283214001\n",
      "Test Score: 0.6381818181818182\n",
      "\n",
      "--XGBoost\n",
      "Train Score: 0.9895442663939084\n",
      "Test Score: 0.6472727272727272\n",
      "\n",
      "--Ridge Classifier\n",
      "Train Score: 0.6504148198658939\n",
      "Test Score: 0.6522727272727272\n",
      "\n",
      "--KNN\n",
      "Train Score: 0.7782702579838618\n",
      "Test Score: 0.6286363636363637\n",
      "\n",
      "--Random Forest\n",
      "Train Score: 1.0\n",
      "Test Score: 0.6559090909090909\n",
      "\n"
     ]
    }
   ],
   "source": [
    "lg,lcv,xgb,rg,knn,rf = models_eval_sc(x_train,y_train,x_test,y_test)"
   ]
  },
  {
   "cell_type": "code",
   "execution_count": 72,
   "id": "deaa5fa5",
   "metadata": {},
   "outputs": [
    {
     "name": "stdout",
     "output_type": "stream",
     "text": [
      "--Logistic Regression\n",
      "Train Score: 0.6403000340947835\n",
      "Test Score: 0.6336363636363637\n",
      "\n",
      "--Logistic Regression CV\n",
      "Train Score: 0.6412092283214001\n",
      "Test Score: 0.6363636363636364\n",
      "\n",
      "--XGBoost\n",
      "Train Score: 0.9895442663939084\n",
      "Test Score: 0.644090909090909\n",
      "\n",
      "--Ridge Classifier\n",
      "Train Score: 0.6504148198658939\n",
      "Test Score: 0.6554545454545454\n",
      "\n",
      "--KNN\n",
      "Train Score: 0.7782702579838618\n",
      "Test Score: 0.6309090909090909\n",
      "\n",
      "--Random Forest\n",
      "Train Score: 1.0\n",
      "Test Score: 0.6527272727272727\n",
      "\n"
     ]
    }
   ],
   "source": [
    "sc = StandardScaler()\n",
    "x_t = sc.fit_transform(x_train)\n",
    "x_te = sc.fit_transform(x_test)\n",
    "lg,lcv,xgb,rg,knn,rf = models_eval_sc(x_t,y_train,x_te,y_test)"
   ]
  },
  {
   "cell_type": "markdown",
   "id": "3317b306",
   "metadata": {},
   "source": [
    "# l1 normalization"
   ]
  },
  {
   "cell_type": "code",
   "execution_count": 78,
   "id": "55186515",
   "metadata": {},
   "outputs": [
    {
     "name": "stdout",
     "output_type": "stream",
     "text": [
      "--Logistic Regression\n",
      "Train Score: 0.5976815547221275\n",
      "Test Score: 0.5927272727272728\n",
      "\n",
      "--Logistic Regression CV\n",
      "Train Score: 0.6362086600750085\n",
      "Test Score: 0.6327272727272727\n",
      "\n",
      "--XGBoost\n",
      "Train Score: 0.9987498579384021\n",
      "Test Score: 0.645\n",
      "\n",
      "--Ridge Classifier\n",
      "Train Score: 0.5976815547221275\n",
      "Test Score: 0.5927272727272728\n",
      "\n",
      "--KNN\n",
      "Train Score: 0.7797476986021139\n",
      "Test Score: 0.6327272727272727\n",
      "\n",
      "--Random Forest\n",
      "Train Score: 1.0\n",
      "Test Score: 0.6718181818181819\n",
      "\n"
     ]
    }
   ],
   "source": [
    "from sklearn.preprocessing import Normalizer\n",
    "Data_normalizer = Normalizer(norm='l1').fit(x_train)\n",
    "x_train_normalized = Data_normalizer.transform(x_train)\n",
    "x_test_normalized = Data_normalizer.transform(x_test)\n",
    "lg,lcv,xgb,rg,knn,rf =  models_eval_mm(x_train_normalized,y_train,x_test_normalized,y_test)"
   ]
  },
  {
   "cell_type": "code",
   "execution_count": 79,
   "id": "17aca424",
   "metadata": {},
   "outputs": [
    {
     "name": "stdout",
     "output_type": "stream",
     "text": [
      "--->CLASSIFICATION REPORT=>\n",
      "\n",
      "               precision    recall  f1-score   support\n",
      "\n",
      "           0       0.58      0.69      0.63       896\n",
      "           1       0.76      0.66      0.70      1304\n",
      "\n",
      "    accuracy                           0.67      2200\n",
      "   macro avg       0.67      0.68      0.67      2200\n",
      "weighted avg       0.69      0.67      0.67      2200\n",
      "\n",
      "--->CONFUSION MATRIX=>\n",
      "\n",
      " [[621 275]\n",
      " [447 857]]\n"
     ]
    }
   ],
   "source": [
    "y_pred = rf.predict(x_test_normalized)\n",
    "from sklearn.metrics import classification_report, confusion_matrix\n",
    "\n",
    "print('--->CLASSIFICATION REPORT=>\\n\\n',classification_report(y_test, y_pred))\n",
    "\n",
    "print('--->CONFUSION MATRIX=>\\n\\n',confusion_matrix(y_test, y_pred))"
   ]
  },
  {
   "cell_type": "markdown",
   "id": "1e213d94",
   "metadata": {},
   "source": [
    "# Check Data Balance"
   ]
  },
  {
   "cell_type": "code",
   "execution_count": 85,
   "id": "f96d3382",
   "metadata": {},
   "outputs": [
    {
     "data": {
      "text/plain": [
       "6563"
      ]
     },
     "execution_count": 85,
     "metadata": {},
     "output_type": "execute_result"
    }
   ],
   "source": [
    "len(data[data['Reached.on.Time_Y.N']==1]['Reached.on.Time_Y.N'])"
   ]
  },
  {
   "cell_type": "code",
   "execution_count": 86,
   "id": "cb3970ac",
   "metadata": {},
   "outputs": [
    {
     "data": {
      "text/plain": [
       "4436"
      ]
     },
     "execution_count": 86,
     "metadata": {},
     "output_type": "execute_result"
    }
   ],
   "source": [
    "len(data[data['Reached.on.Time_Y.N']==0]['Reached.on.Time_Y.N'])"
   ]
  },
  {
   "cell_type": "markdown",
   "id": "2feeb6e6",
   "metadata": {},
   "source": [
    "# Hyper parameter optimisation for SVM\n",
    "svc = svm.SVC(random_state=1234,kernel='rbf',C= 10, gamma= 5 , tol = 1e-2, verbose = 1) 0.6648482782134334 0.6704545454545454"
   ]
  },
  {
   "cell_type": "code",
   "execution_count": 13,
   "id": "be819419",
   "metadata": {},
   "outputs": [],
   "source": [
    "from sklearn import svm\n",
    "from sklearn.preprocessing import Normalizer\n",
    "Data_normalizer = Normalizer(norm='l1').fit(x_train)\n",
    "x_train_normalized = Data_normalizer.transform(x_train)\n",
    "x_test_normalized = Data_normalizer.transform(x_test)"
   ]
  },
  {
   "cell_type": "code",
   "execution_count": 61,
   "id": "d346e8e6",
   "metadata": {},
   "outputs": [
    {
     "name": "stdout",
     "output_type": "stream",
     "text": [
      "[LibSVM]train score 0.6648482782134334\n",
      "test score 0.6704545454545454\n"
     ]
    }
   ],
   "source": [
    "#svc = svm.SVC(random_state=1234,kernel='rbf',C= 6, gamma= 4) 0.6648482782134334 0.6672727272727272\n",
    "#svc = svm.SVC(random_state=1234,kernel='rbf',C= 5, gamma= 5) 0.6640527332651438 0.6686363636363636\n",
    "#svc = svm.SVC(random_state=1234,kernel='rbf',C= 10, gamma= 5, verbose = 3) 0.6648482782134334 0.6695454545454546\n",
    "#svc = svm.SVC(random_state=1234,kernel='rbf',C= 10, gamma= 5 , tol = 1e-2, verbose = 1) 0.6648482782134334 0.6704545454545454\n",
    "svc = svm.SVC(random_state=1234,kernel='rbf',C= 10, gamma= 5 , tol = 1e-2,verbose = 1)\n",
    "svc.fit(x_train_normalized, y_train)\n",
    "print('train score',svc.score(x_train_normalized,y_train))\n",
    "print('test score',svc.score(x_test_normalized,y_test))"
   ]
  },
  {
   "cell_type": "code",
   "execution_count": 56,
   "id": "7a815494",
   "metadata": {},
   "outputs": [
    {
     "name": "stdout",
     "output_type": "stream",
     "text": [
      "Fitting 5 folds for each of 12 candidates, totalling 60 fits\n",
      "SVC(C=10, gamma=4, random_state=1234) {'C': 10, 'gamma': 4, 'tol': 0.001} 0.665189027856737\n"
     ]
    }
   ],
   "source": [
    "svc = svm.SVC(random_state=1234,kernel='rbf')\n",
    "params = {\n",
    "            'C': [ 10, 13], \n",
    "              'gamma': [4,5],\n",
    "    'tol':[1e-1,1e-2,1e-3]\n",
    "        }\n",
    "fitmodel = GridSearchCV(svc, param_grid=params, cv=5, refit=True, scoring=\"accuracy\", n_jobs=-1, verbose=3)\n",
    "fitmodel.fit(x_train_normalized, y_train)\n",
    "print(fitmodel.best_estimator_, fitmodel.best_params_, fitmodel.best_score_)\n",
    "\n",
    "# SVC(C=10, gamma=1, random_state=1234) {'C': 10, 'gamma': 1, 'kernel': 'rbf'} 0.6657575326890279\n",
    "# SVC(C=6, gamma=2, random_state=1234) {'C': 6, 'gamma': 2, 'kernel': 'rbf'} 0.6659845470050132"
   ]
  },
  {
   "cell_type": "code",
   "execution_count": 30,
   "id": "83e89757",
   "metadata": {},
   "outputs": [
    {
     "name": "stdout",
     "output_type": "stream",
     "text": [
      "Fitting 5 folds for each of 18 candidates, totalling 90 fits\n",
      "SVC(C=6, gamma=2, random_state=1234) {'C': 6, 'gamma': 2, 'kernel': 'rbf'} 0.6659845470050132\n"
     ]
    }
   ],
   "source": [
    "svc = svm.SVC(random_state=1234)\n",
    "params = {\n",
    "        'kernel' : ['poly', 'rbf'],\n",
    "            'C': [ 6,8,9,10], \n",
    "              'gamma': [2,1, 0.1],\n",
    "        }\n",
    "fitmodel = GridSearchCV(svc, param_grid=params, cv=5, refit=True, scoring=\"accuracy\", n_jobs=-1, verbose=3)\n",
    "fitmodel.fit(x_train_normalized, y_train)\n",
    "print(fitmodel.best_estimator_, fitmodel.best_params_, fitmodel.best_score_)\n",
    "\n",
    "# SVC(C=10, gamma=1, random_state=1234) {'C': 10, 'gamma': 1, 'kernel': 'rbf'} 0.6657575326890279\n",
    "# SVC(C=6, gamma=2, random_state=1234) {'C': 6, 'gamma': 2, 'kernel': 'rbf'} 0.6659845470050132"
   ]
  },
  {
   "cell_type": "markdown",
   "id": "29f33638",
   "metadata": {},
   "source": [
    "# Hyper parameter optimisation for XGboost"
   ]
  },
  {
   "cell_type": "code",
   "execution_count": 43,
   "id": "2dd6af77",
   "metadata": {},
   "outputs": [
    {
     "data": {
      "text/plain": [
       "<bound method _BaseComposition._get_params of Pipeline(steps=[('standardscaler', StandardScaler()),\n",
       "                ('xgbclassifier',\n",
       "                 XGBClassifier(base_score=0.5, booster='gbtree', callbacks=None,\n",
       "                               colsample_bylevel=1, colsample_bynode=1,\n",
       "                               colsample_bytree=1, early_stopping_rounds=None,\n",
       "                               enable_categorical=False, eval_metric=None,\n",
       "                               gamma=0, gpu_id=-1, grow_policy='depthwise',\n",
       "                               importance_type=None, interaction_constraints='',\n",
       "                               learning_rate=0.300000012, max_bin=256,\n",
       "                               max_cat_to_onehot=4, max_delta_step=0,\n",
       "                               max_depth=6, max_leaves=0, min_child_weight=1,\n",
       "                               missing=nan, monotone_constraints='()',\n",
       "                               n_estimators=100, n_jobs=0, num_parallel_tree=1,\n",
       "                               predictor='auto', random_state=0, reg_alpha=0,\n",
       "                               reg_lambda=1, ...))])>"
      ]
     },
     "execution_count": 43,
     "metadata": {},
     "output_type": "execute_result"
    }
   ],
   "source": [
    "xgb._get_params"
   ]
  },
  {
   "cell_type": "code",
   "execution_count": 142,
   "id": "3c147035",
   "metadata": {},
   "outputs": [
    {
     "name": "stdout",
     "output_type": "stream",
     "text": [
      "Fitting 5 folds for each of 54 candidates, totalling 270 fits\n",
      "XGBClassifier(base_score=0.5, booster='gbtree', callbacks=None,\n",
      "              colsample_bylevel=1, colsample_bynode=1, colsample_bytree=0.8,\n",
      "              early_stopping_rounds=None, enable_categorical=False,\n",
      "              eval_metric=None, gamma=2.0, gpu_id=-1, grow_policy='depthwise',\n",
      "              importance_type=None, interaction_constraints='',\n",
      "              learning_rate=0.5, max_bin=256, max_cat_to_onehot=4,\n",
      "              max_delta_step=0, max_depth=4, max_leaves=0, min_child_weight=10,\n",
      "              missing=nan, monotone_constraints='()', n_estimators=100,\n",
      "              n_jobs=3, nthread=3, num_parallel_tree=1, predictor='auto',\n",
      "              random_state=0, reg_alpha=0, ...) {'colsample_bytree': 0.8, 'gamma': 2.0, 'max_depth': 4, 'min_child_weight': 10} 0.6608713628611298\n"
     ]
    }
   ],
   "source": [
    "params = {\n",
    "        'min_child_weight': [10,20],\n",
    "        'gamma': [1.5, 2.0, 2.5],\n",
    "        'colsample_bytree': [0.6, 0.8, 0.9],\n",
    "        'max_depth': [4,5,6]\n",
    "        }\n",
    "xgb = XGBClassifier(learning_rate=0.5, n_estimators=100, objective='binary:logistic', nthread=3)\n",
    "fitmodel = GridSearchCV(xgb, param_grid=params, cv=5, refit=True, scoring=\"accuracy\", n_jobs=-1, verbose=3)\n",
    "fitmodel.fit(x_train_normalized, y_train)\n",
    "print(fitmodel.best_estimator_, fitmodel.best_params_, fitmodel.best_score_)\n",
    "\n",
    "# {'colsample_bytree': 0.8, 'gamma': 2.0, 'max_depth': 4, 'min_child_weight': 10} 0.6608713628611298"
   ]
  },
  {
   "cell_type": "code",
   "execution_count": 105,
   "id": "f0560d2e",
   "metadata": {},
   "outputs": [
    {
     "data": {
      "text/plain": [
       "{'bootstrap': True,\n",
       " 'ccp_alpha': 0.0,\n",
       " 'class_weight': None,\n",
       " 'criterion': 'gini',\n",
       " 'max_depth': None,\n",
       " 'max_features': 'sqrt',\n",
       " 'max_leaf_nodes': None,\n",
       " 'max_samples': None,\n",
       " 'min_impurity_decrease': 0.0,\n",
       " 'min_samples_leaf': 1,\n",
       " 'min_samples_split': 2,\n",
       " 'min_weight_fraction_leaf': 0.0,\n",
       " 'n_estimators': 100,\n",
       " 'n_jobs': None,\n",
       " 'oob_score': False,\n",
       " 'random_state': 1234,\n",
       " 'verbose': 0,\n",
       " 'warm_start': False}"
      ]
     },
     "execution_count": 105,
     "metadata": {},
     "output_type": "execute_result"
    }
   ],
   "source": [
    "rf.get_params()"
   ]
  },
  {
   "cell_type": "markdown",
   "id": "0c6642f8",
   "metadata": {},
   "source": [
    "# Random Forest Hyperparameter optimisation"
   ]
  },
  {
   "cell_type": "code",
   "execution_count": 108,
   "id": "f7fac9f9",
   "metadata": {},
   "outputs": [
    {
     "name": "stdout",
     "output_type": "stream",
     "text": [
      "Fitting 7 folds for each of 90 candidates, totalling 630 fits\n"
     ]
    },
    {
     "name": "stderr",
     "output_type": "stream",
     "text": [
      "C:\\Users\\ashwi\\AppData\\Roaming\\Python\\Python39\\site-packages\\sklearn\\ensemble\\_forest.py:427: FutureWarning: `max_features='auto'` has been deprecated in 1.1 and will be removed in 1.3. To keep the past behaviour, explicitly set `max_features='sqrt'` or remove this parameter as it is also the default value for RandomForestClassifiers and ExtraTreesClassifiers.\n",
      "  warn(\n"
     ]
    },
    {
     "name": "stdout",
     "output_type": "stream",
     "text": [
      "Best Score:0.6849642004773271\n",
      "Best Parameters: {'criterion': 'entropy', 'max_depth': 7, 'max_features': 'auto', 'n_estimators': 200}\n"
     ]
    }
   ],
   "source": [
    "# Plug in appropriate max_depth and random_state parameters\n",
    "rf = RandomForestClassifier()\n",
    "rf_param_grid = {\n",
    "    'n_estimators': [200,300,500], \n",
    "    'criterion': ['entropy','gini'],\n",
    "    'max_depth': [7,8,60,80,100],\n",
    "    'max_features': ['auto', 'sqrt', 'log2']\n",
    "}\n",
    "rf_cv= GridSearchCV(rf,rf_param_grid,cv=7,scoring=\"accuracy\", n_jobs=-1, verbose=3)\n",
    "rf_cv.fit(x_train,y_train)\n",
    "\n",
    "print(\"Best Score:\" + str(rf_cv.best_score_))\n",
    "print(\"Best Parameters: \" + str(rf_cv.best_params_))\n",
    "\n",
    "#Best Score:0.6849642004773271\n",
    "#Best Parameters: {'criterion': 'entropy', 'max_depth': 7, 'max_features': 'auto', 'n_estimators': 200}"
   ]
  },
  {
   "cell_type": "code",
   "execution_count": 127,
   "id": "0e85efd9",
   "metadata": {},
   "outputs": [
    {
     "name": "stdout",
     "output_type": "stream",
     "text": [
      "Fitting 6 folds for each of 27 candidates, totalling 162 fits\n"
     ]
    },
    {
     "name": "stderr",
     "output_type": "stream",
     "text": [
      "C:\\Users\\ashwi\\AppData\\Roaming\\Python\\Python39\\site-packages\\sklearn\\ensemble\\_forest.py:427: FutureWarning: `max_features='auto'` has been deprecated in 1.1 and will be removed in 1.3. To keep the past behaviour, explicitly set `max_features='sqrt'` or remove this parameter as it is also the default value for RandomForestClassifiers and ExtraTreesClassifiers.\n",
      "  warn(\n"
     ]
    },
    {
     "name": "stdout",
     "output_type": "stream",
     "text": [
      "Best Score:0.6806471957105122\n",
      "Best Parameters: {'max_depth': 7, 'min_samples_leaf': 5, 'n_estimators': 100}\n"
     ]
    }
   ],
   "source": [
    "# Plug in appropriate max_depth and random_state parameters\n",
    "rf = RandomForestClassifier(max_features= 'auto',criterion= 'entropy')\n",
    "rf_param_grid = {\n",
    "    'n_estimators': [100,150,200],\n",
    "    'max_depth': [5,6,7],\n",
    "    'min_samples_leaf':[1,3,5]\n",
    "}\n",
    "rf_cv= GridSearchCV(rf,rf_param_grid,cv=6,scoring=\"accuracy\", n_jobs=-1, verbose=3)\n",
    "rf_cv.fit(x_train_normalized,y_train)\n",
    "\n",
    "print(\"Best Score:\" + str(rf_cv.best_score_))\n",
    "print(\"Best Parameters: \" + str(rf_cv.best_params_))"
   ]
  },
  {
   "cell_type": "code",
   "execution_count": 145,
   "id": "84cd056d",
   "metadata": {},
   "outputs": [
    {
     "name": "stderr",
     "output_type": "stream",
     "text": [
      "C:\\Users\\ashwi\\AppData\\Roaming\\Python\\Python39\\site-packages\\sklearn\\ensemble\\_forest.py:427: FutureWarning: `max_features='auto'` has been deprecated in 1.1 and will be removed in 1.3. To keep the past behaviour, explicitly set `max_features='sqrt'` or remove this parameter as it is also the default value for RandomForestClassifiers and ExtraTreesClassifiers.\n",
      "  warn(\n"
     ]
    },
    {
     "name": "stdout",
     "output_type": "stream",
     "text": [
      "train 0.7034890328446415\n",
      "test 0.6872727272727273\n"
     ]
    }
   ],
   "source": [
    "# DEPLOYING model\n",
    "rf = RandomForestClassifier(criterion= 'entropy', max_depth= 6, max_features= 'auto', n_estimators= 100)\n",
    "\n",
    "rf.fit(x_train_normalized,y_train)\n",
    "print('train',rf.score(x_train_normalized,y_train))\n",
    "print('test',rf.score(x_test_normalized,y_test))"
   ]
  },
  {
   "cell_type": "markdown",
   "id": "2c4a13f7",
   "metadata": {},
   "source": [
    "# Logistic regression hyperparameter optimisation"
   ]
  },
  {
   "cell_type": "code",
   "execution_count": 141,
   "id": "50766350",
   "metadata": {},
   "outputs": [
    {
     "name": "stdout",
     "output_type": "stream",
     "text": [
      "Fitting 5 folds for each of 15 candidates, totalling 75 fits\n",
      "Best Score:0.633821644529433\n",
      "Best Parameters: {'Cs': 10, 'max_iter': 60}\n"
     ]
    }
   ],
   "source": [
    "# Plug in appropriate max_depth and random_state parameters\n",
    "lg = LogisticRegressionCV(n_jobs=-1,random_state= 1234)\n",
    "lg_param_grid = {\n",
    "    'Cs': [6,8,10,15,20],\n",
    "     'max_iter': [60,80,100]\n",
    "}\n",
    "lg_cv= GridSearchCV(lg,lg_param_grid,cv=5,scoring=\"accuracy\", n_jobs=-1, verbose=3)\n",
    "lg_cv.fit(x_train_normalized,y_train)\n",
    "\n",
    "print(\"Best Score:\" + str(lg_cv.best_score_))\n",
    "print(\"Best Parameters: \" + str(lg_cv.best_params_))"
   ]
  },
  {
   "cell_type": "code",
   "execution_count": 130,
   "id": "f8020b92",
   "metadata": {},
   "outputs": [
    {
     "data": {
      "text/plain": [
       "{'Cs': 10,\n",
       " 'class_weight': None,\n",
       " 'cv': None,\n",
       " 'dual': False,\n",
       " 'fit_intercept': True,\n",
       " 'intercept_scaling': 1.0,\n",
       " 'l1_ratios': None,\n",
       " 'max_iter': 100,\n",
       " 'multi_class': 'auto',\n",
       " 'n_jobs': None,\n",
       " 'penalty': 'l2',\n",
       " 'random_state': 1234,\n",
       " 'refit': True,\n",
       " 'scoring': None,\n",
       " 'solver': 'lbfgs',\n",
       " 'tol': 0.0001,\n",
       " 'verbose': 0}"
      ]
     },
     "execution_count": 130,
     "metadata": {},
     "output_type": "execute_result"
    }
   ],
   "source": [
    "lcv.get_params()"
   ]
  },
  {
   "cell_type": "markdown",
   "id": "b3650e9a",
   "metadata": {},
   "source": [
    "# Saving model"
   ]
  },
  {
   "cell_type": "code",
   "execution_count": 143,
   "id": "d523fd35",
   "metadata": {},
   "outputs": [],
   "source": [
    "import pickle as pkl"
   ]
  },
  {
   "cell_type": "code",
   "execution_count": 146,
   "id": "4dc4aa50",
   "metadata": {},
   "outputs": [],
   "source": [
    "pkl.dump(rf, open('rf_acc_68.pkl', 'wb'))"
   ]
  },
  {
   "cell_type": "markdown",
   "id": "dadeb669",
   "metadata": {},
   "source": [
    "# Load model"
   ]
  },
  {
   "cell_type": "code",
   "execution_count": 147,
   "id": "1051ea5d",
   "metadata": {},
   "outputs": [],
   "source": [
    "model = pkl.load(open('rf_acc_68.pkl', 'rb'))"
   ]
  },
  {
   "cell_type": "code",
   "execution_count": 148,
   "id": "7e7fa986",
   "metadata": {},
   "outputs": [
    {
     "data": {
      "text/plain": [
       "array([[0.00000000e+00, 4.60829493e-04, 2.76497696e-03, ...,\n",
       "        4.60829493e-04, 4.60829493e-03, 8.59907834e-01],\n",
       "       [8.71080139e-04, 4.35540070e-04, 1.74216028e-03, ...,\n",
       "        0.00000000e+00, 3.48432056e-03, 8.71080139e-01],\n",
       "       [1.61943320e-04, 3.23886640e-04, 4.85829960e-04, ...,\n",
       "        0.00000000e+00, 1.13360324e-03, 9.65668016e-01],\n",
       "       ...,\n",
       "       [7.09723208e-04, 0.00000000e+00, 4.25833925e-03, ...,\n",
       "        0.00000000e+00, 4.96806246e-03, 7.65081618e-01],\n",
       "       [8.93655049e-04, 2.23413762e-04, 1.34048257e-03, ...,\n",
       "        0.00000000e+00, 1.78731010e-03, 9.47944593e-01],\n",
       "       [2.32378002e-03, 1.54918668e-03, 3.87296669e-03, ...,\n",
       "        0.00000000e+00, 2.32378002e-03, 7.78466305e-01]])"
      ]
     },
     "execution_count": 148,
     "metadata": {},
     "output_type": "execute_result"
    }
   ],
   "source": [
    "x_test_normalized"
   ]
  },
  {
   "cell_type": "code",
   "execution_count": 160,
   "id": "c4eb5e77",
   "metadata": {},
   "outputs": [
    {
     "data": {
      "text/plain": [
       "(1, 10)"
      ]
     },
     "execution_count": 160,
     "metadata": {},
     "output_type": "execute_result"
    }
   ],
   "source": [
    "x_test_normalized[0].reshape(1,-1).shape"
   ]
  },
  {
   "cell_type": "code",
   "execution_count": 159,
   "id": "7ad7a881",
   "metadata": {},
   "outputs": [
    {
     "data": {
      "text/plain": [
       "array([0], dtype=int64)"
      ]
     },
     "execution_count": 159,
     "metadata": {},
     "output_type": "execute_result"
    }
   ],
   "source": [
    "model.predict(x_test_normalized[0].reshape(1,-1))"
   ]
  },
  {
   "cell_type": "code",
   "execution_count": 162,
   "id": "d464097e",
   "metadata": {},
   "outputs": [
    {
     "data": {
      "text/plain": [
       "7212    1\n",
       "7220    0\n",
       "4637    1\n",
       "2709    1\n",
       "8161    0\n",
       "       ..\n",
       "1628    1\n",
       "901     1\n",
       "8903    0\n",
       "7018    1\n",
       "8349    1\n",
       "Name: Reached.on.Time_Y.N, Length: 2200, dtype: int64"
      ]
     },
     "execution_count": 162,
     "metadata": {},
     "output_type": "execute_result"
    }
   ],
   "source": [
    "y_test"
   ]
  },
  {
   "cell_type": "code",
   "execution_count": null,
   "id": "e9be04c2",
   "metadata": {},
   "outputs": [],
   "source": [
    "'ID', 'Warehouse_block', 'Mode_of_Shipment', 'Customer_care_calls',\n",
    "       'Customer_rating', 'Cost_of_the_Product', 'Prior_purchases',\n",
    "       'Product_importance', 'Gender', 'Discount_offered', 'Weight_in_gms',\n",
    "       'Reached.on.Time_Y.N'"
   ]
  },
  {
   "cell_type": "code",
   "execution_count": 167,
   "id": "57cdc2f3",
   "metadata": {},
   "outputs": [
    {
     "name": "stdout",
     "output_type": "stream",
     "text": [
      " * Serving Flask app \"__main__\" (lazy loading)\n",
      " * Environment: production\n",
      "\u001b[31m   WARNING: This is a development server. Do not use it in a production deployment.\u001b[0m\n",
      "\u001b[2m   Use a production WSGI server instead.\u001b[0m\n",
      " * Debug mode: off\n"
     ]
    },
    {
     "name": "stderr",
     "output_type": "stream",
     "text": [
      " * Running on http://127.0.0.1:4000/ (Press CTRL+C to quit)\n",
      "127.0.0.1 - - [27/Feb/2023 16:07:25] \"GET / HTTP/1.1\" 200 -\n",
      "127.0.0.1 - - [27/Feb/2023 16:08:18] \"POST /predict HTTP/1.1\" 200 -\n"
     ]
    },
    {
     "name": "stdout",
     "output_type": "stream",
     "text": [
      "[1]\n"
     ]
    },
    {
     "name": "stderr",
     "output_type": "stream",
     "text": [
      "127.0.0.1 - - [27/Feb/2023 16:09:31] \"POST /predict HTTP/1.1\" 200 -\n"
     ]
    },
    {
     "name": "stdout",
     "output_type": "stream",
     "text": [
      "[1]\n"
     ]
    }
   ],
   "source": [
    "import pickle\n",
    "from flask import Flask , request, render_template\n",
    "app = Flask(__name__)\n",
    "model = pickle.load(open(\"rf_acc_68.pkl\",\"rb\"))\n",
    "\n",
    "@app.route('/')\n",
    "def indput():\n",
    "    return render_template('input.html')\n",
    "\n",
    "@app.route('/predict',methods = ['GET','POST'])\n",
    "def admin():\n",
    "    Warehouse_block=eval(request.form[\"Warehouse_block\"])\n",
    "    Mode_of_Shipment=eval(request.form[\"Mode_of_Shipment\"])\n",
    "    Customer_care_calls=eval(request.form[\"Customer_care_calls\"])\n",
    "    Customer_rating=eval(request.form[\"Customer_rating\"])\n",
    "    Cost_of_the_Product = eval(request.form[\"Cost_of_the_Product\"])\n",
    "    Prior_purchases = eval(request.form[\"Prior_purchases\"])\n",
    "    Product_importance = eval(request.form[\"Product_importance\"])\n",
    "    Gender = eval(request.form[\"Gender\"])\n",
    "    Discount_offered = eval(request.form[\"Discount_offered\"])\n",
    "    Weight_in_gms = eval(request.form[\"Weight_in_gms\"])\n",
    "    \n",
    "    preds=[[Warehouse_block,Mode_of_Shipment,Customer_care_calls,Customer_rating,Cost_of_the_Product,\n",
    "           Prior_purchases,Product_importance,Gender,Discount_offered,Weight_in_gms]]\n",
    "    xx=model.predict(preds)\n",
    "    print(xx)\n",
    "    if xx[0]==1:\n",
    "        return render_template(\"input.html\",p=\"Reached on time\")\n",
    "    return render_template(\"input.html\",p=\"Not reached on time\")\n",
    "if __name__ == '__main__':\n",
    "    app.run(debug = False, port=4000)"
   ]
  },
  {
   "cell_type": "code",
   "execution_count": null,
   "id": "c5e48a9e",
   "metadata": {},
   "outputs": [],
   "source": []
  }
 ],
 "metadata": {
  "kernelspec": {
   "display_name": "Python 3 (ipykernel)",
   "language": "python",
   "name": "python3"
  },
  "language_info": {
   "codemirror_mode": {
    "name": "ipython",
    "version": 3
   },
   "file_extension": ".py",
   "mimetype": "text/x-python",
   "name": "python",
   "nbconvert_exporter": "python",
   "pygments_lexer": "ipython3",
   "version": "3.9.12"
  }
 },
 "nbformat": 4,
 "nbformat_minor": 5
}
