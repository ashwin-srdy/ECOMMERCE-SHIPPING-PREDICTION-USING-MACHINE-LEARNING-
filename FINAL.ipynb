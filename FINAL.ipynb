{
 "cells": [
  {
   "cell_type": "markdown",
   "id": "ddf9ce34",
   "metadata": {},
   "source": [
    " \"\"\"Ecommerce shipping prediction is the process of estimating the wheteher the product reached on time. which is  based on various factors such as the origin and destination of the package, the shipping method selected by the customer, the carrier used for shipping, and any potential delays or issues that may arise during the shipping process.\n",
    "Machine learning models can be used to make accurate predictions about shipping times based on historical data and real-time updates from carriers. These models may take into account factors such as weather conditions, traffic, and other external factors that can impact delivery times.\n",
    "Over All Ecommerce shipping prediction is an important tool for ecommerce businesses that want to provide accurate delivery estimates to their customers and improve their overall customer experience.\"\"\"\n"
   ]
  },
  {
   "cell_type": "markdown",
   "id": "b7cd0776",
   "metadata": {},
   "source": [
    "# Importing Libraries"
   ]
  },
  {
   "cell_type": "code",
   "execution_count": 1,
   "id": "aa4ab195",
   "metadata": {},
   "outputs": [],
   "source": [
    "import matplotlib.pyplot as plt\n",
    "import pandas as pd\n",
    "import seaborn as sns\n",
    "import pickle as pkl\n",
    "import numpy as np\n",
    "from sklearn import svm\n",
    "from sklearn.model_selection import train_test_split\n",
    "from sklearn.neighbors import KNeighborsClassifier\n",
    "from sklearn.ensemble import RandomForestClassifier\n",
    "from sklearn.linear_model import LogisticRegression, LogisticRegressionCV, RidgeClassifier\n",
    "from sklearn.model_selection import train_test_split, GridSearchCV\n",
    "from xgboost import XGBClassifier\n",
    "from sklearn.preprocessing import Normalizer\n",
    "from sklearn.metrics import accuracy_score, f1_score, recall_score, precision_score, confusion_matrix"
   ]
  },
  {
   "cell_type": "markdown",
   "id": "b25c79e4",
   "metadata": {},
   "source": [
    "# Loading Data"
   ]
  },
  {
   "cell_type": "code",
   "execution_count": 2,
   "id": "4c42a8e8",
   "metadata": {},
   "outputs": [
    {
     "data": {
      "text/html": [
       "<div>\n",
       "<style scoped>\n",
       "    .dataframe tbody tr th:only-of-type {\n",
       "        vertical-align: middle;\n",
       "    }\n",
       "\n",
       "    .dataframe tbody tr th {\n",
       "        vertical-align: top;\n",
       "    }\n",
       "\n",
       "    .dataframe thead th {\n",
       "        text-align: right;\n",
       "    }\n",
       "</style>\n",
       "<table border=\"1\" class=\"dataframe\">\n",
       "  <thead>\n",
       "    <tr style=\"text-align: right;\">\n",
       "      <th></th>\n",
       "      <th>ID</th>\n",
       "      <th>Warehouse_block</th>\n",
       "      <th>Mode_of_Shipment</th>\n",
       "      <th>Customer_care_calls</th>\n",
       "      <th>Customer_rating</th>\n",
       "      <th>Cost_of_the_Product</th>\n",
       "      <th>Prior_purchases</th>\n",
       "      <th>Product_importance</th>\n",
       "      <th>Gender</th>\n",
       "      <th>Discount_offered</th>\n",
       "      <th>Weight_in_gms</th>\n",
       "      <th>Reached.on.Time_Y.N</th>\n",
       "    </tr>\n",
       "  </thead>\n",
       "  <tbody>\n",
       "    <tr>\n",
       "      <th>0</th>\n",
       "      <td>1</td>\n",
       "      <td>D</td>\n",
       "      <td>Flight</td>\n",
       "      <td>4</td>\n",
       "      <td>2</td>\n",
       "      <td>177</td>\n",
       "      <td>3</td>\n",
       "      <td>low</td>\n",
       "      <td>F</td>\n",
       "      <td>44</td>\n",
       "      <td>1233</td>\n",
       "      <td>1</td>\n",
       "    </tr>\n",
       "    <tr>\n",
       "      <th>1</th>\n",
       "      <td>2</td>\n",
       "      <td>F</td>\n",
       "      <td>Flight</td>\n",
       "      <td>4</td>\n",
       "      <td>5</td>\n",
       "      <td>216</td>\n",
       "      <td>2</td>\n",
       "      <td>low</td>\n",
       "      <td>M</td>\n",
       "      <td>59</td>\n",
       "      <td>3088</td>\n",
       "      <td>1</td>\n",
       "    </tr>\n",
       "    <tr>\n",
       "      <th>2</th>\n",
       "      <td>3</td>\n",
       "      <td>A</td>\n",
       "      <td>Flight</td>\n",
       "      <td>2</td>\n",
       "      <td>2</td>\n",
       "      <td>183</td>\n",
       "      <td>4</td>\n",
       "      <td>low</td>\n",
       "      <td>M</td>\n",
       "      <td>48</td>\n",
       "      <td>3374</td>\n",
       "      <td>1</td>\n",
       "    </tr>\n",
       "    <tr>\n",
       "      <th>3</th>\n",
       "      <td>4</td>\n",
       "      <td>B</td>\n",
       "      <td>Flight</td>\n",
       "      <td>3</td>\n",
       "      <td>3</td>\n",
       "      <td>176</td>\n",
       "      <td>4</td>\n",
       "      <td>medium</td>\n",
       "      <td>M</td>\n",
       "      <td>10</td>\n",
       "      <td>1177</td>\n",
       "      <td>1</td>\n",
       "    </tr>\n",
       "    <tr>\n",
       "      <th>4</th>\n",
       "      <td>5</td>\n",
       "      <td>C</td>\n",
       "      <td>Flight</td>\n",
       "      <td>2</td>\n",
       "      <td>2</td>\n",
       "      <td>184</td>\n",
       "      <td>3</td>\n",
       "      <td>medium</td>\n",
       "      <td>F</td>\n",
       "      <td>46</td>\n",
       "      <td>2484</td>\n",
       "      <td>1</td>\n",
       "    </tr>\n",
       "  </tbody>\n",
       "</table>\n",
       "</div>"
      ],
      "text/plain": [
       "   ID Warehouse_block Mode_of_Shipment  Customer_care_calls  Customer_rating  \\\n",
       "0   1               D           Flight                    4                2   \n",
       "1   2               F           Flight                    4                5   \n",
       "2   3               A           Flight                    2                2   \n",
       "3   4               B           Flight                    3                3   \n",
       "4   5               C           Flight                    2                2   \n",
       "\n",
       "   Cost_of_the_Product  Prior_purchases Product_importance Gender  \\\n",
       "0                  177                3                low      F   \n",
       "1                  216                2                low      M   \n",
       "2                  183                4                low      M   \n",
       "3                  176                4             medium      M   \n",
       "4                  184                3             medium      F   \n",
       "\n",
       "   Discount_offered  Weight_in_gms  Reached.on.Time_Y.N  \n",
       "0                44           1233                    1  \n",
       "1                59           3088                    1  \n",
       "2                48           3374                    1  \n",
       "3                10           1177                    1  \n",
       "4                46           2484                    1  "
      ]
     },
     "execution_count": 2,
     "metadata": {},
     "output_type": "execute_result"
    }
   ],
   "source": [
    "\n",
    "data = pd.read_csv(r\"F:\\(---------PROJECTS--------)\\------------SMARTINTERNZ\\Data\\Train.csv\")\n",
    "data.head()\n"
   ]
  },
  {
   "cell_type": "code",
   "execution_count": 25,
   "id": "87118dff",
   "metadata": {},
   "outputs": [
    {
     "data": {
      "text/plain": [
       "2"
      ]
     },
     "execution_count": 25,
     "metadata": {},
     "output_type": "execute_result"
    }
   ],
   "source": [
    "min(data['Customer_care_calls'])"
   ]
  },
  {
   "cell_type": "markdown",
   "id": "3bad6898",
   "metadata": {},
   "source": [
    "# Check data"
   ]
  },
  {
   "cell_type": "code",
   "execution_count": 3,
   "id": "fd4cd2aa",
   "metadata": {},
   "outputs": [
    {
     "data": {
      "text/plain": [
       "(10999, 12)"
      ]
     },
     "execution_count": 3,
     "metadata": {},
     "output_type": "execute_result"
    }
   ],
   "source": [
    "data.shape"
   ]
  },
  {
   "cell_type": "code",
   "execution_count": 3,
   "id": "0727c4be",
   "metadata": {},
   "outputs": [
    {
     "name": "stdout",
     "output_type": "stream",
     "text": [
      "<class 'pandas.core.frame.DataFrame'>\n",
      "RangeIndex: 10999 entries, 0 to 10998\n",
      "Data columns (total 12 columns):\n",
      " #   Column               Non-Null Count  Dtype \n",
      "---  ------               --------------  ----- \n",
      " 0   ID                   10999 non-null  int64 \n",
      " 1   Warehouse_block      10999 non-null  object\n",
      " 2   Mode_of_Shipment     10999 non-null  object\n",
      " 3   Customer_care_calls  10999 non-null  int64 \n",
      " 4   Customer_rating      10999 non-null  int64 \n",
      " 5   Cost_of_the_Product  10999 non-null  int64 \n",
      " 6   Prior_purchases      10999 non-null  int64 \n",
      " 7   Product_importance   10999 non-null  object\n",
      " 8   Gender               10999 non-null  object\n",
      " 9   Discount_offered     10999 non-null  int64 \n",
      " 10  Weight_in_gms        10999 non-null  int64 \n",
      " 11  Reached.on.Time_Y.N  10999 non-null  int64 \n",
      "dtypes: int64(8), object(4)\n",
      "memory usage: 1.0+ MB\n"
     ]
    }
   ],
   "source": [
    "data.info() #No null vallues found"
   ]
  },
  {
   "cell_type": "code",
   "execution_count": 4,
   "id": "3d9dad30",
   "metadata": {},
   "outputs": [
    {
     "data": {
      "text/plain": [
       "ID                     0\n",
       "Warehouse_block        0\n",
       "Mode_of_Shipment       0\n",
       "Customer_care_calls    0\n",
       "Customer_rating        0\n",
       "Cost_of_the_Product    0\n",
       "Prior_purchases        0\n",
       "Product_importance     0\n",
       "Gender                 0\n",
       "Discount_offered       0\n",
       "Weight_in_gms          0\n",
       "Reached.on.Time_Y.N    0\n",
       "dtype: int64"
      ]
     },
     "execution_count": 4,
     "metadata": {},
     "output_type": "execute_result"
    }
   ],
   "source": [
    "data.isnull().sum()"
   ]
  },
  {
   "cell_type": "code",
   "execution_count": 16,
   "id": "9399e49a",
   "metadata": {},
   "outputs": [
    {
     "data": {
      "text/html": [
       "<div>\n",
       "<style scoped>\n",
       "    .dataframe tbody tr th:only-of-type {\n",
       "        vertical-align: middle;\n",
       "    }\n",
       "\n",
       "    .dataframe tbody tr th {\n",
       "        vertical-align: top;\n",
       "    }\n",
       "\n",
       "    .dataframe thead th {\n",
       "        text-align: right;\n",
       "    }\n",
       "</style>\n",
       "<table border=\"1\" class=\"dataframe\">\n",
       "  <thead>\n",
       "    <tr style=\"text-align: right;\">\n",
       "      <th></th>\n",
       "      <th>ID</th>\n",
       "      <th>Warehouse_block</th>\n",
       "      <th>Mode_of_Shipment</th>\n",
       "      <th>Customer_care_calls</th>\n",
       "      <th>Customer_rating</th>\n",
       "      <th>Cost_of_the_Product</th>\n",
       "      <th>Prior_purchases</th>\n",
       "      <th>Product_importance</th>\n",
       "      <th>Gender</th>\n",
       "      <th>Discount_offered</th>\n",
       "      <th>Weight_in_gms</th>\n",
       "      <th>Reached.on.Time_Y.N</th>\n",
       "    </tr>\n",
       "  </thead>\n",
       "  <tbody>\n",
       "    <tr>\n",
       "      <th>count</th>\n",
       "      <td>10999.00000</td>\n",
       "      <td>10999.000000</td>\n",
       "      <td>10999.000000</td>\n",
       "      <td>10999.000000</td>\n",
       "      <td>10999.000000</td>\n",
       "      <td>10999.000000</td>\n",
       "      <td>10999.000000</td>\n",
       "      <td>10999.000000</td>\n",
       "      <td>10999.000000</td>\n",
       "      <td>10999.000000</td>\n",
       "      <td>10999.000000</td>\n",
       "      <td>10999.000000</td>\n",
       "    </tr>\n",
       "    <tr>\n",
       "      <th>mean</th>\n",
       "      <td>5500.00000</td>\n",
       "      <td>1.833167</td>\n",
       "      <td>0.998454</td>\n",
       "      <td>4.054459</td>\n",
       "      <td>2.990545</td>\n",
       "      <td>210.196836</td>\n",
       "      <td>3.567597</td>\n",
       "      <td>0.604600</td>\n",
       "      <td>0.495863</td>\n",
       "      <td>13.373216</td>\n",
       "      <td>3634.016729</td>\n",
       "      <td>0.596691</td>\n",
       "    </tr>\n",
       "    <tr>\n",
       "      <th>std</th>\n",
       "      <td>3175.28214</td>\n",
       "      <td>1.343823</td>\n",
       "      <td>0.567099</td>\n",
       "      <td>1.141490</td>\n",
       "      <td>1.413603</td>\n",
       "      <td>48.063272</td>\n",
       "      <td>1.522860</td>\n",
       "      <td>0.641464</td>\n",
       "      <td>0.500006</td>\n",
       "      <td>16.205527</td>\n",
       "      <td>1635.377251</td>\n",
       "      <td>0.490584</td>\n",
       "    </tr>\n",
       "    <tr>\n",
       "      <th>min</th>\n",
       "      <td>1.00000</td>\n",
       "      <td>0.000000</td>\n",
       "      <td>0.000000</td>\n",
       "      <td>2.000000</td>\n",
       "      <td>1.000000</td>\n",
       "      <td>96.000000</td>\n",
       "      <td>2.000000</td>\n",
       "      <td>0.000000</td>\n",
       "      <td>0.000000</td>\n",
       "      <td>1.000000</td>\n",
       "      <td>1001.000000</td>\n",
       "      <td>0.000000</td>\n",
       "    </tr>\n",
       "    <tr>\n",
       "      <th>25%</th>\n",
       "      <td>2750.50000</td>\n",
       "      <td>1.000000</td>\n",
       "      <td>1.000000</td>\n",
       "      <td>3.000000</td>\n",
       "      <td>2.000000</td>\n",
       "      <td>169.000000</td>\n",
       "      <td>3.000000</td>\n",
       "      <td>0.000000</td>\n",
       "      <td>0.000000</td>\n",
       "      <td>4.000000</td>\n",
       "      <td>1839.500000</td>\n",
       "      <td>0.000000</td>\n",
       "    </tr>\n",
       "    <tr>\n",
       "      <th>50%</th>\n",
       "      <td>5500.00000</td>\n",
       "      <td>1.000000</td>\n",
       "      <td>1.000000</td>\n",
       "      <td>4.000000</td>\n",
       "      <td>3.000000</td>\n",
       "      <td>214.000000</td>\n",
       "      <td>3.000000</td>\n",
       "      <td>1.000000</td>\n",
       "      <td>0.000000</td>\n",
       "      <td>7.000000</td>\n",
       "      <td>4149.000000</td>\n",
       "      <td>1.000000</td>\n",
       "    </tr>\n",
       "    <tr>\n",
       "      <th>75%</th>\n",
       "      <td>8249.50000</td>\n",
       "      <td>3.000000</td>\n",
       "      <td>1.000000</td>\n",
       "      <td>5.000000</td>\n",
       "      <td>4.000000</td>\n",
       "      <td>251.000000</td>\n",
       "      <td>4.000000</td>\n",
       "      <td>1.000000</td>\n",
       "      <td>1.000000</td>\n",
       "      <td>10.000000</td>\n",
       "      <td>5050.000000</td>\n",
       "      <td>1.000000</td>\n",
       "    </tr>\n",
       "    <tr>\n",
       "      <th>max</th>\n",
       "      <td>10999.00000</td>\n",
       "      <td>4.000000</td>\n",
       "      <td>2.000000</td>\n",
       "      <td>7.000000</td>\n",
       "      <td>5.000000</td>\n",
       "      <td>310.000000</td>\n",
       "      <td>10.000000</td>\n",
       "      <td>2.000000</td>\n",
       "      <td>1.000000</td>\n",
       "      <td>65.000000</td>\n",
       "      <td>7846.000000</td>\n",
       "      <td>1.000000</td>\n",
       "    </tr>\n",
       "  </tbody>\n",
       "</table>\n",
       "</div>"
      ],
      "text/plain": [
       "                ID  Warehouse_block  Mode_of_Shipment  Customer_care_calls  \\\n",
       "count  10999.00000     10999.000000      10999.000000         10999.000000   \n",
       "mean    5500.00000         1.833167          0.998454             4.054459   \n",
       "std     3175.28214         1.343823          0.567099             1.141490   \n",
       "min        1.00000         0.000000          0.000000             2.000000   \n",
       "25%     2750.50000         1.000000          1.000000             3.000000   \n",
       "50%     5500.00000         1.000000          1.000000             4.000000   \n",
       "75%     8249.50000         3.000000          1.000000             5.000000   \n",
       "max    10999.00000         4.000000          2.000000             7.000000   \n",
       "\n",
       "       Customer_rating  Cost_of_the_Product  Prior_purchases  \\\n",
       "count     10999.000000         10999.000000     10999.000000   \n",
       "mean          2.990545           210.196836         3.567597   \n",
       "std           1.413603            48.063272         1.522860   \n",
       "min           1.000000            96.000000         2.000000   \n",
       "25%           2.000000           169.000000         3.000000   \n",
       "50%           3.000000           214.000000         3.000000   \n",
       "75%           4.000000           251.000000         4.000000   \n",
       "max           5.000000           310.000000        10.000000   \n",
       "\n",
       "       Product_importance        Gender  Discount_offered  Weight_in_gms  \\\n",
       "count        10999.000000  10999.000000      10999.000000   10999.000000   \n",
       "mean             0.604600      0.495863         13.373216    3634.016729   \n",
       "std              0.641464      0.500006         16.205527    1635.377251   \n",
       "min              0.000000      0.000000          1.000000    1001.000000   \n",
       "25%              0.000000      0.000000          4.000000    1839.500000   \n",
       "50%              1.000000      0.000000          7.000000    4149.000000   \n",
       "75%              1.000000      1.000000         10.000000    5050.000000   \n",
       "max              2.000000      1.000000         65.000000    7846.000000   \n",
       "\n",
       "       Reached.on.Time_Y.N  \n",
       "count         10999.000000  \n",
       "mean              0.596691  \n",
       "std               0.490584  \n",
       "min               0.000000  \n",
       "25%               0.000000  \n",
       "50%               1.000000  \n",
       "75%               1.000000  \n",
       "max               1.000000  "
      ]
     },
     "execution_count": 16,
     "metadata": {},
     "output_type": "execute_result"
    }
   ],
   "source": [
    "data.describe(include='all')"
   ]
  },
  {
   "cell_type": "markdown",
   "id": "ba52cfce",
   "metadata": {},
   "source": [
    "checking data balance using output feature/ dependent variable classes as it is categorical, Data is balanced"
   ]
  },
  {
   "cell_type": "code",
   "execution_count": 4,
   "id": "15cefff9",
   "metadata": {},
   "outputs": [
    {
     "data": {
      "text/plain": [
       "6563"
      ]
     },
     "execution_count": 4,
     "metadata": {},
     "output_type": "execute_result"
    }
   ],
   "source": [
    "len(data[data['Reached.on.Time_Y.N']==1]['Reached.on.Time_Y.N'])"
   ]
  },
  {
   "cell_type": "code",
   "execution_count": 5,
   "id": "2f6c98a1",
   "metadata": {},
   "outputs": [
    {
     "data": {
      "text/plain": [
       "4436"
      ]
     },
     "execution_count": 5,
     "metadata": {},
     "output_type": "execute_result"
    }
   ],
   "source": [
    "len(data[data['Reached.on.Time_Y.N']==0]['Reached.on.Time_Y.N'])"
   ]
  },
  {
   "cell_type": "markdown",
   "id": "2743f6dc",
   "metadata": {},
   "source": [
    "# Data Analysis"
   ]
  },
  {
   "cell_type": "code",
   "execution_count": 14,
   "id": "ce22b292",
   "metadata": {},
   "outputs": [
    {
     "name": "stdout",
     "output_type": "stream",
     "text": [
      "Help on function histplot in module seaborn.distributions:\n",
      "\n",
      "histplot(data=None, *, x=None, y=None, hue=None, weights=None, stat='count', bins='auto', binwidth=None, binrange=None, discrete=None, cumulative=False, common_bins=True, common_norm=True, multiple='layer', element='bars', fill=True, shrink=1, kde=False, kde_kws=None, line_kws=None, thresh=0, pthresh=None, pmax=None, cbar=False, cbar_ax=None, cbar_kws=None, palette=None, hue_order=None, hue_norm=None, color=None, log_scale=None, legend=True, ax=None, **kwargs)\n",
      "    Plot univariate or bivariate histograms to show distributions of datasets.\n",
      "    \n",
      "    A histogram is a classic visualization tool that represents the distribution\n",
      "    of one or more variables by counting the number of observations that fall within\n",
      "    disrete bins.\n",
      "    \n",
      "    This function can normalize the statistic computed within each bin to estimate\n",
      "    frequency, density or probability mass, and it can add a smooth curve obtained\n",
      "    using a kernel density estimate, similar to :func:`kdeplot`.\n",
      "    \n",
      "    More information is provided in the :ref:`user guide <tutorial_hist>`.\n",
      "    \n",
      "    Parameters\n",
      "    ----------\n",
      "    data : :class:`pandas.DataFrame`, :class:`numpy.ndarray`, mapping, or sequence\n",
      "        Input data structure. Either a long-form collection of vectors that can be\n",
      "        assigned to named variables or a wide-form dataset that will be internally\n",
      "        reshaped.\n",
      "    x, y : vectors or keys in ``data``\n",
      "        Variables that specify positions on the x and y axes.\n",
      "    hue : vector or key in ``data``\n",
      "        Semantic variable that is mapped to determine the color of plot elements.\n",
      "    weights : vector or key in ``data``\n",
      "        If provided, weight the contribution of the corresponding data points\n",
      "        towards the count in each bin by these factors.\n",
      "    stat : str\n",
      "        Aggregate statistic to compute in each bin.\n",
      "        \n",
      "        - `count`: show the number of observations in each bin\n",
      "        - `frequency`: show the number of observations divided by the bin width\n",
      "        - `probability`: or `proportion`: normalize such that bar heights sum to 1\n",
      "        - `percent`: normalize such that bar heights sum to 100\n",
      "        - `density`: normalize such that the total area of the histogram equals 1\n",
      "    bins : str, number, vector, or a pair of such values\n",
      "        Generic bin parameter that can be the name of a reference rule,\n",
      "        the number of bins, or the breaks of the bins.\n",
      "        Passed to :func:`numpy.histogram_bin_edges`.\n",
      "    binwidth : number or pair of numbers\n",
      "        Width of each bin, overrides ``bins`` but can be used with\n",
      "        ``binrange``.\n",
      "    binrange : pair of numbers or a pair of pairs\n",
      "        Lowest and highest value for bin edges; can be used either\n",
      "        with ``bins`` or ``binwidth``. Defaults to data extremes.\n",
      "    discrete : bool\n",
      "        If True, default to ``binwidth=1`` and draw the bars so that they are\n",
      "        centered on their corresponding data points. This avoids \"gaps\" that may\n",
      "        otherwise appear when using discrete (integer) data.\n",
      "    cumulative : bool\n",
      "        If True, plot the cumulative counts as bins increase.\n",
      "    common_bins : bool\n",
      "        If True, use the same bins when semantic variables produce multiple\n",
      "        plots. If using a reference rule to determine the bins, it will be computed\n",
      "        with the full dataset.\n",
      "    common_norm : bool\n",
      "        If True and using a normalized statistic, the normalization will apply over\n",
      "        the full dataset. Otherwise, normalize each histogram independently.\n",
      "    multiple : {\"layer\", \"dodge\", \"stack\", \"fill\"}\n",
      "        Approach to resolving multiple elements when semantic mapping creates subsets.\n",
      "        Only relevant with univariate data.\n",
      "    element : {\"bars\", \"step\", \"poly\"}\n",
      "        Visual representation of the histogram statistic.\n",
      "        Only relevant with univariate data.\n",
      "    fill : bool\n",
      "        If True, fill in the space under the histogram.\n",
      "        Only relevant with univariate data.\n",
      "    shrink : number\n",
      "        Scale the width of each bar relative to the binwidth by this factor.\n",
      "        Only relevant with univariate data.\n",
      "    kde : bool\n",
      "        If True, compute a kernel density estimate to smooth the distribution\n",
      "        and show on the plot as (one or more) line(s).\n",
      "        Only relevant with univariate data.\n",
      "    kde_kws : dict\n",
      "        Parameters that control the KDE computation, as in :func:`kdeplot`.\n",
      "    line_kws : dict\n",
      "        Parameters that control the KDE visualization, passed to\n",
      "        :meth:`matplotlib.axes.Axes.plot`.\n",
      "    thresh : number or None\n",
      "        Cells with a statistic less than or equal to this value will be transparent.\n",
      "        Only relevant with bivariate data.\n",
      "    pthresh : number or None\n",
      "        Like ``thresh``, but a value in [0, 1] such that cells with aggregate counts\n",
      "        (or other statistics, when used) up to this proportion of the total will be\n",
      "        transparent.\n",
      "    pmax : number or None\n",
      "        A value in [0, 1] that sets that saturation point for the colormap at a value\n",
      "        such that cells below is constistute this proportion of the total count (or\n",
      "        other statistic, when used).\n",
      "    cbar : bool\n",
      "        If True, add a colorbar to annotate the color mapping in a bivariate plot.\n",
      "        Note: Does not currently support plots with a ``hue`` variable well.\n",
      "    cbar_ax : :class:`matplotlib.axes.Axes`\n",
      "        Pre-existing axes for the colorbar.\n",
      "    cbar_kws : dict\n",
      "        Additional parameters passed to :meth:`matplotlib.figure.Figure.colorbar`.\n",
      "    palette : string, list, dict, or :class:`matplotlib.colors.Colormap`\n",
      "        Method for choosing the colors to use when mapping the ``hue`` semantic.\n",
      "        String values are passed to :func:`color_palette`. List or dict values\n",
      "        imply categorical mapping, while a colormap object implies numeric mapping.\n",
      "    hue_order : vector of strings\n",
      "        Specify the order of processing and plotting for categorical levels of the\n",
      "        ``hue`` semantic.\n",
      "    hue_norm : tuple or :class:`matplotlib.colors.Normalize`\n",
      "        Either a pair of values that set the normalization range in data units\n",
      "        or an object that will map from data units into a [0, 1] interval. Usage\n",
      "        implies numeric mapping.\n",
      "    color : :mod:`matplotlib color <matplotlib.colors>`\n",
      "        Single color specification for when hue mapping is not used. Otherwise, the\n",
      "        plot will try to hook into the matplotlib property cycle.\n",
      "    log_scale : bool or number, or pair of bools or numbers\n",
      "        Set axis scale(s) to log. A single value sets the data axis for univariate\n",
      "        distributions and both axes for bivariate distributions. A pair of values\n",
      "        sets each axis independently. Numeric values are interpreted as the desired\n",
      "        base (default 10). If `False`, defer to the existing Axes scale.\n",
      "    legend : bool\n",
      "        If False, suppress the legend for semantic variables.\n",
      "    ax : :class:`matplotlib.axes.Axes`\n",
      "        Pre-existing axes for the plot. Otherwise, call :func:`matplotlib.pyplot.gca`\n",
      "        internally.\n",
      "    kwargs\n",
      "        Other keyword arguments are passed to one of the following matplotlib\n",
      "        functions:\n",
      "    \n",
      "        - :meth:`matplotlib.axes.Axes.bar` (univariate, element=\"bars\")\n",
      "        - :meth:`matplotlib.axes.Axes.fill_between` (univariate, other element, fill=True)\n",
      "        - :meth:`matplotlib.axes.Axes.plot` (univariate, other element, fill=False)\n",
      "        - :meth:`matplotlib.axes.Axes.pcolormesh` (bivariate)\n",
      "    \n",
      "    Returns\n",
      "    -------\n",
      "    :class:`matplotlib.axes.Axes`\n",
      "        The matplotlib axes containing the plot.\n",
      "    \n",
      "    See Also\n",
      "    --------\n",
      "    displot : Figure-level interface to distribution plot functions.\n",
      "    kdeplot : Plot univariate or bivariate distributions using kernel density estimation.\n",
      "    rugplot : Plot a tick at each observation value along the x and/or y axes.\n",
      "    ecdfplot : Plot empirical cumulative distribution functions.\n",
      "    jointplot : Draw a bivariate plot with univariate marginal distributions.\n",
      "    \n",
      "    Notes\n",
      "    -----\n",
      "    \n",
      "    The choice of bins for computing and plotting a histogram can exert\n",
      "    substantial influence on the insights that one is able to draw from the\n",
      "    visualization. If the bins are too large, they may erase important features.\n",
      "    On the other hand, bins that are too small may be dominated by random\n",
      "    variability, obscuring the shape of the true underlying distribution. The\n",
      "    default bin size is determined using a reference rule that depends on the\n",
      "    sample size and variance. This works well in many cases, (i.e., with\n",
      "    \"well-behaved\" data) but it fails in others. It is always a good to try\n",
      "    different bin sizes to be sure that you are not missing something important.\n",
      "    This function allows you to specify bins in several different ways, such as\n",
      "    by setting the total number of bins to use, the width of each bin, or the\n",
      "    specific locations where the bins should break.\n",
      "    \n",
      "    Examples\n",
      "    --------\n",
      "    \n",
      "    .. include:: ../docstrings/histplot.rst\n",
      "\n"
     ]
    }
   ],
   "source": [
    "help(sns.histplot)"
   ]
  },
  {
   "cell_type": "code",
   "execution_count": 16,
   "id": "a13cd0b1",
   "metadata": {},
   "outputs": [
    {
     "data": {
      "image/png": "[encoded data removed]",
      "text/plain": [
       "<Figure size 1296x720 with 4 Axes>"
      ]
     },
     "metadata": {
      "needs_background": "light"
     },
     "output_type": "display_data"
    }
   ],
   "source": [
    "# Display value distributions\n",
    "plt.figure(figsize=(18, 10))\n",
    "colors = sns.color_palette()\n",
    "num_features = data.select_dtypes('object').columns.values\n",
    "\n",
    "for i, num in enumerate(num_features):\n",
    "\n",
    "    plt.subplot(2, 2, i+1)\n",
    "    sns.histplot(data[num],color=colors[i],shrink=0.8)\n",
    "    \n",
    "plt.show()"
   ]
  },
  {
   "cell_type": "code",
   "execution_count": 20,
   "id": "d8abe29a",
   "metadata": {},
   "outputs": [
    {
     "data": {
      "text/plain": [
       "array(['Customer_care_calls', 'Customer_rating', 'Cost_of_the_Product',\n",
       "       'Prior_purchases', 'Discount_offered', 'Weight_in_gms'],\n",
       "      dtype=object)"
      ]
     },
     "execution_count": 20,
     "metadata": {},
     "output_type": "execute_result"
    }
   ],
   "source": [
    "num_features"
   ]
  },
  {
   "cell_type": "code",
   "execution_count": 22,
   "id": "97992342",
   "metadata": {},
   "outputs": [
    {
     "data": {
      "image/png": "[encoded data removed]",
      "text/plain": [
       "<Figure size 1296x720 with 6 Axes>"
      ]
     },
     "metadata": {
      "needs_background": "light"
     },
     "output_type": "display_data"
    }
   ],
   "source": [
    "# Display value distributions\n",
    "plt.figure(figsize=(18, 10))\n",
    "colors = sns.color_palette()\n",
    "num_features = data.select_dtypes('number').drop(columns=['ID','Reached.on.Time_Y.N']).columns.values\n",
    "\n",
    "for i, num in enumerate(num_features):\n",
    "\n",
    "    plt.subplot(2, 3, i+1)\n",
    "    sns.histplot(data[num],color=colors[i],shrink=0.6)\n",
    "    \n",
    "plt.show()"
   ]
  },
  {
   "cell_type": "code",
   "execution_count": 33,
   "id": "e5c9a98c",
   "metadata": {},
   "outputs": [
    {
     "data": {
      "image/png": "[encoded data removed]",
      "text/plain": [
       "<Figure size 1008x720 with 2 Axes>"
      ]
     },
     "metadata": {
      "needs_background": "light"
     },
     "output_type": "display_data"
    }
   ],
   "source": [
    "plt.figure(figsize=(14,10))\n",
    "sns.heatmap(data.corr(), annot=True)\n",
    "plt.show()"
   ]
  },
  {
   "cell_type": "markdown",
   "id": "fb1c2dfe",
   "metadata": {},
   "source": [
    "# Label mapping categorical variables"
   ]
  },
  {
   "cell_type": "code",
   "execution_count": 3,
   "id": "5a58bbda",
   "metadata": {},
   "outputs": [
    {
     "data": {
      "text/plain": [
       "{'Warehouse_block': {'D': 0, 'F': 1, 'A': 2, 'B': 3, 'C': 4},\n",
       " 'Mode_of_Shipment': {'Flight': 0, 'Ship': 1, 'Road': 2},\n",
       " 'Product_importance': {'low': 0, 'medium': 1, 'high': 2},\n",
       " 'Gender': {'F': 0, 'M': 1}}"
      ]
     },
     "execution_count": 3,
     "metadata": {},
     "output_type": "execute_result"
    }
   ],
   "source": [
    "label_map={}\n",
    "for i in data.columns:\n",
    "    if str(data[i].dtype) == 'object':\n",
    "        temp={}\n",
    "        cats=data[i].unique()\n",
    "        for index in range(len(cats)):\n",
    "            temp[cats[index]]=index\n",
    "        label_map[i]=temp\n",
    "        #labeling\n",
    "        data[i]=data[i].map(temp)\n",
    "label_map"
   ]
  },
  {
   "cell_type": "code",
   "execution_count": 11,
   "id": "6ee8d881",
   "metadata": {},
   "outputs": [
    {
     "data": {
      "text/html": [
       "<div>\n",
       "<style scoped>\n",
       "    .dataframe tbody tr th:only-of-type {\n",
       "        vertical-align: middle;\n",
       "    }\n",
       "\n",
       "    .dataframe tbody tr th {\n",
       "        vertical-align: top;\n",
       "    }\n",
       "\n",
       "    .dataframe thead th {\n",
       "        text-align: right;\n",
       "    }\n",
       "</style>\n",
       "<table border=\"1\" class=\"dataframe\">\n",
       "  <thead>\n",
       "    <tr style=\"text-align: right;\">\n",
       "      <th></th>\n",
       "      <th>ID</th>\n",
       "      <th>Warehouse_block</th>\n",
       "      <th>Mode_of_Shipment</th>\n",
       "      <th>Customer_care_calls</th>\n",
       "      <th>Customer_rating</th>\n",
       "      <th>Cost_of_the_Product</th>\n",
       "      <th>Prior_purchases</th>\n",
       "      <th>Product_importance</th>\n",
       "      <th>Gender</th>\n",
       "      <th>Discount_offered</th>\n",
       "      <th>Weight_in_gms</th>\n",
       "      <th>Reached.on.Time_Y.N</th>\n",
       "    </tr>\n",
       "  </thead>\n",
       "  <tbody>\n",
       "    <tr>\n",
       "      <th>0</th>\n",
       "      <td>1</td>\n",
       "      <td>0</td>\n",
       "      <td>0</td>\n",
       "      <td>4</td>\n",
       "      <td>2</td>\n",
       "      <td>177</td>\n",
       "      <td>3</td>\n",
       "      <td>0</td>\n",
       "      <td>0</td>\n",
       "      <td>44</td>\n",
       "      <td>1233</td>\n",
       "      <td>1</td>\n",
       "    </tr>\n",
       "    <tr>\n",
       "      <th>1</th>\n",
       "      <td>2</td>\n",
       "      <td>1</td>\n",
       "      <td>0</td>\n",
       "      <td>4</td>\n",
       "      <td>5</td>\n",
       "      <td>216</td>\n",
       "      <td>2</td>\n",
       "      <td>0</td>\n",
       "      <td>1</td>\n",
       "      <td>59</td>\n",
       "      <td>3088</td>\n",
       "      <td>1</td>\n",
       "    </tr>\n",
       "    <tr>\n",
       "      <th>2</th>\n",
       "      <td>3</td>\n",
       "      <td>2</td>\n",
       "      <td>0</td>\n",
       "      <td>2</td>\n",
       "      <td>2</td>\n",
       "      <td>183</td>\n",
       "      <td>4</td>\n",
       "      <td>0</td>\n",
       "      <td>1</td>\n",
       "      <td>48</td>\n",
       "      <td>3374</td>\n",
       "      <td>1</td>\n",
       "    </tr>\n",
       "    <tr>\n",
       "      <th>3</th>\n",
       "      <td>4</td>\n",
       "      <td>3</td>\n",
       "      <td>0</td>\n",
       "      <td>3</td>\n",
       "      <td>3</td>\n",
       "      <td>176</td>\n",
       "      <td>4</td>\n",
       "      <td>1</td>\n",
       "      <td>1</td>\n",
       "      <td>10</td>\n",
       "      <td>1177</td>\n",
       "      <td>1</td>\n",
       "    </tr>\n",
       "    <tr>\n",
       "      <th>4</th>\n",
       "      <td>5</td>\n",
       "      <td>4</td>\n",
       "      <td>0</td>\n",
       "      <td>2</td>\n",
       "      <td>2</td>\n",
       "      <td>184</td>\n",
       "      <td>3</td>\n",
       "      <td>1</td>\n",
       "      <td>0</td>\n",
       "      <td>46</td>\n",
       "      <td>2484</td>\n",
       "      <td>1</td>\n",
       "    </tr>\n",
       "  </tbody>\n",
       "</table>\n",
       "</div>"
      ],
      "text/plain": [
       "   ID  Warehouse_block  Mode_of_Shipment  Customer_care_calls  \\\n",
       "0   1                0                 0                    4   \n",
       "1   2                1                 0                    4   \n",
       "2   3                2                 0                    2   \n",
       "3   4                3                 0                    3   \n",
       "4   5                4                 0                    2   \n",
       "\n",
       "   Customer_rating  Cost_of_the_Product  Prior_purchases  Product_importance  \\\n",
       "0                2                  177                3                   0   \n",
       "1                5                  216                2                   0   \n",
       "2                2                  183                4                   0   \n",
       "3                3                  176                4                   1   \n",
       "4                2                  184                3                   1   \n",
       "\n",
       "   Gender  Discount_offered  Weight_in_gms  Reached.on.Time_Y.N  \n",
       "0       0                44           1233                    1  \n",
       "1       1                59           3088                    1  \n",
       "2       1                48           3374                    1  \n",
       "3       1                10           1177                    1  \n",
       "4       0                46           2484                    1  "
      ]
     },
     "execution_count": 11,
     "metadata": {},
     "output_type": "execute_result"
    }
   ],
   "source": [
    "data.head()"
   ]
  },
  {
   "cell_type": "markdown",
   "id": "ac8236a7",
   "metadata": {},
   "source": [
    "# Checking for outliers"
   ]
  },
  {
   "cell_type": "code",
   "execution_count": 6,
   "id": "d15c6986",
   "metadata": {},
   "outputs": [
    {
     "data": {
      "image/png": "[encoded data removed]",
      "text/plain": [
       "<Figure size 1296x720 with 6 Axes>"
      ]
     },
     "metadata": {
      "needs_background": "light"
     },
     "output_type": "display_data"
    }
   ],
   "source": [
    "c=0\n",
    "plt.figure(figsize=(18, 10))\n",
    "for i in data.drop(columns=[\n",
    "                            'Warehouse_block','Mode_of_Shipment','Product_importance','Gender','Reached.on.Time_Y.N','ID'\n",
    "                           ]).columns:\n",
    "    if str(data[i].dtype)=='object':\n",
    "        continueZ\n",
    "    plt.subplot(2, 3, c+1)\n",
    "    plt.boxplot(data[i])\n",
    "    plt.title(i)\n",
    "    c+=1\n",
    "plt.show()"
   ]
  },
  {
   "cell_type": "code",
   "execution_count": 41,
   "id": "317fb725",
   "metadata": {},
   "outputs": [
    {
     "name": "stdout",
     "output_type": "stream",
     "text": [
      "Customer_care_calls\n",
      "    0 are over the upper bound: 8.0\n",
      "    0 are less than the lower bound: 0.0 \n",
      "\n",
      "Customer_rating\n",
      "    0 are over the upper bound: 7.0\n",
      "    0 are less than the lower bound: -1.0 \n",
      "\n",
      "Cost_of_the_Product\n",
      "    0 are over the upper bound: 374.0\n",
      "    0 are less than the lower bound: 46.0 \n",
      "\n",
      "Prior_purchases\n",
      "    1003 are over the upper bound: 5.5\n",
      "    0 are less than the lower bound: 1.5 \n",
      "\n",
      "Discount_offered\n",
      "    2262 are over the upper bound: 19.0\n",
      "    0 are less than the lower bound: -5.0 \n",
      "\n",
      "Weight_in_gms\n",
      "    0 are over the upper bound: 9865.75\n",
      "    0 are less than the lower bound: -2976.25 \n",
      "\n"
     ]
    }
   ],
   "source": [
    "def check_outliers(arr):\n",
    "    Q1 = np.percentile(arr, 25,interpolation = 'midpoint')\n",
    "    Q3 = np.percentile(arr, 75,interpolation = 'midpoint')\n",
    "    IQR = Q3 - Q1\n",
    "    \n",
    "    #Above Upper bound\n",
    "    upper=Q3+1.5*IQR\n",
    "    upper_array=np.array(arr>=upper)\n",
    "    print(' '*3,len(upper_array[upper_array == True]),'are over the upper bound:',upper)\n",
    "\n",
    "    #Below Lower bound\n",
    "    lower=Q1-1.5*IQR\n",
    "    lower_array=np.array(arr<=lower)\n",
    "    print(' '*3,len(lower_array[lower_array == True]),'are less than the lower bound:',lower,'\\n')\n",
    "\n",
    "for i in data.drop(columns=[\n",
    "                            'Warehouse_block','Mode_of_Shipment','Product_importance','Gender','Reached.on.Time_Y.N','ID'\n",
    "                           ]).columns:\n",
    "    if str(data[i].dtype)=='object':\n",
    "        continue\n",
    "    print(i)\n",
    "    check_outliers(data[i])"
   ]
  },
  {
   "cell_type": "markdown",
   "id": "2684ebe3",
   "metadata": {},
   "source": [
    "# Normalization"
   ]
  },
  {
   "cell_type": "markdown",
   "id": "19b37b65",
   "metadata": {},
   "source": [
    "As data is having outliers we normalize the data after splitting to train and test variables"
   ]
  },
  {
   "cell_type": "code",
   "execution_count": 4,
   "id": "4965b028",
   "metadata": {},
   "outputs": [
    {
     "name": "stdout",
     "output_type": "stream",
     "text": [
      "(8799, 10)\n",
      "(2200, 10)\n",
      "(8799,)\n",
      "(2200,)\n"
     ]
    }
   ],
   "source": [
    "x_train, x_test, y_train, y_test = train_test_split(\n",
    "                                        data.drop(columns=['ID','Reached.on.Time_Y.N']),\n",
    "                                        data['Reached.on.Time_Y.N'],\n",
    "                                        random_state=1234,test_size = 0.20,\n",
    "                                        shuffle=True\n",
    "                                        )\n",
    "print(x_train.shape)\n",
    "print(x_test.shape)\n",
    "print(y_train.shape)\n",
    "print(y_test.shape)"
   ]
  },
  {
   "cell_type": "code",
   "execution_count": 7,
   "id": "e0ecfded",
   "metadata": {},
   "outputs": [],
   "source": [
    "Data_normalizer_p = Normalizer(norm='l1')\n",
    "Data_normalizer_d = Normalizer(norm='l1')\n",
    "x_train['Prior_purchases'] = Data_normalizer_p.fit_transform(x_train['Prior_purchases'].values.reshape(-1,1))\n",
    "x_train['Discount_offered'] = Data_normalizer_d.fit_transform(x_train['Discount_offered'].values.reshape(-1,1))"
   ]
  },
  {
   "cell_type": "code",
   "execution_count": 20,
   "id": "278ac853",
   "metadata": {},
   "outputs": [],
   "source": [
    "Data_normal`izer = Normalizer(norm='l1').fit(x_train)\n",
    "x_train_normalized = Data_normalizer.transform(x_train)\n",
    "x_test_normalized = Data_normalizer.transform(x_test)"
   ]
  },
  {
   "cell_type": "markdown",
   "id": "cddee92b",
   "metadata": {},
   "source": [
    "# Training and evaluating models"
   ]
  },
  {
   "cell_type": "code",
   "execution_count": 10,
   "id": "c4df14de",
   "metadata": {},
   "outputs": [],
   "source": [
    "def models_eval_mm(x_train,y_train,x_test,y_test):\n",
    "    lg = LogisticRegression(random_state=1234)\n",
    "    lg.fit(x_train,y_train)\n",
    "    print('--Logistic Regression')\n",
    "    print('Train Score:',lg.score(x_train,y_train))\n",
    "    print('Test Score:',lg.score(x_test,y_test))\n",
    "    print()\n",
    "    \n",
    "    lcv = LogisticRegressionCV(Cs= 10, max_iter= 60,random_state=1234)\n",
    "    lcv.fit(x_train,y_train)\n",
    "    print('--Logistic Regression CV')\n",
    "    print('Train Score:',lcv.score(x_train,y_train))\n",
    "    print('Test Score:',lcv.score(x_test,y_test))\n",
    "    print()\n",
    "    \n",
    "    print('--XGBoost')\n",
    "    xgb = XGBClassifier(colsample_bytree= 0.8, gamma= 2.0, max_depth= 4, min_child_weight= 10,random_state=1234) \n",
    "    xgb.fit(x_train,y_train)\n",
    "    print('Train Score:',xgb.score(x_train,y_train))\n",
    "    print('Test Score:',xgb.score(x_test,y_test))\n",
    "    print()\n",
    "    \n",
    "    print('--Ridge Classifier')\n",
    "    rg = RidgeClassifier(random_state=1234)\n",
    "    rg.fit(x_train,y_train)\n",
    "    print('Train Score:',rg.score(x_train,y_train))\n",
    "    print('Test Score:',rg.score(x_test,y_test))\n",
    "    print()\n",
    "    \n",
    "    print('--KNN')\n",
    "    knn = KNeighborsClassifier()\n",
    "    knn.fit(x_train,y_train)\n",
    "    print('Train Score:',knn.score(x_train,y_train))\n",
    "    print('Test Score:',knn.score(x_test,y_test))\n",
    "    print()\n",
    "    \n",
    "    print('--Random Forest')\n",
    "    rf = RandomForestClassifier(criterion= 'entropy', max_depth= 7, n_estimators= 200,random_state=1234)\n",
    "    rf.fit(x_train,y_train)\n",
    "    print('Train Score:',rf.score(x_train,y_train))\n",
    "    print('Test Score:',rf.score(x_test,y_test))\n",
    "    print()\n",
    "    \n",
    "    print('--SVM classifier')\n",
    "    svc = svm.SVC(random_state=1234,kernel='rbf',C= 10, gamma= 5 , tol = 1e-2,verbose = 1)\n",
    "    svc.fit(x_train,y_train)\n",
    "    print('Train Score:',svc.score(x_train,y_train))\n",
    "    print('Test Score:',svc.score(x_test,y_test))\n",
    "    print()\n",
    "    \n",
    "    return lg,lcv,xgb,rg,knn,rf,svc"
   ]
  },
  {
   "cell_type": "code",
   "execution_count": 11,
   "id": "a15f0374",
   "metadata": {},
   "outputs": [
    {
     "name": "stderr",
     "output_type": "stream",
     "text": [
      "C:\\Users\\ashwi\\AppData\\Roaming\\Python\\Python39\\site-packages\\sklearn\\linear_model\\_logistic.py:444: ConvergenceWarning: lbfgs failed to converge (status=1):\n",
      "STOP: TOTAL NO. of ITERATIONS REACHED LIMIT.\n",
      "\n",
      "Increase the number of iterations (max_iter) or scale the data as shown in:\n",
      "    https://scikit-learn.org/stable/modules/preprocessing.html\n",
      "Please also refer to the documentation for alternative solver options:\n",
      "    https://scikit-learn.org/stable/modules/linear_model.html#logistic-regression\n",
      "  n_iter_i = _check_optimize_result(\n",
      "C:\\Users\\ashwi\\AppData\\Roaming\\Python\\Python39\\site-packages\\sklearn\\linear_model\\_logistic.py:444: ConvergenceWarning: lbfgs failed to converge (status=1):\n",
      "STOP: TOTAL NO. of ITERATIONS REACHED LIMIT.\n",
      "\n",
      "Increase the number of iterations (max_iter) or scale the data as shown in:\n",
      "    https://scikit-learn.org/stable/modules/preprocessing.html\n",
      "Please also refer to the documentation for alternative solver options:\n",
      "    https://scikit-learn.org/stable/modules/linear_model.html#logistic-regression\n",
      "  n_iter_i = _check_optimize_result(\n"
     ]
    },
    {
     "name": "stdout",
     "output_type": "stream",
     "text": [
      "--Logistic Regression\n",
      "Train Score: 0.6364359586316627\n",
      "Test Score: 0.5927272727272728\n",
      "\n"
     ]
    },
    {
     "name": "stderr",
     "output_type": "stream",
     "text": [
      "C:\\Users\\ashwi\\AppData\\Roaming\\Python\\Python39\\site-packages\\sklearn\\linear_model\\_logistic.py:444: ConvergenceWarning: lbfgs failed to converge (status=1):\n",
      "STOP: TOTAL NO. of ITERATIONS REACHED LIMIT.\n",
      "\n",
      "Increase the number of iterations (max_iter) or scale the data as shown in:\n",
      "    https://scikit-learn.org/stable/modules/preprocessing.html\n",
      "Please also refer to the documentation for alternative solver options:\n",
      "    https://scikit-learn.org/stable/modules/linear_model.html#logistic-regression\n",
      "  n_iter_i = _check_optimize_result(\n",
      "C:\\Users\\ashwi\\AppData\\Roaming\\Python\\Python39\\site-packages\\sklearn\\linear_model\\_logistic.py:444: ConvergenceWarning: lbfgs failed to converge (status=1):\n",
      "STOP: TOTAL NO. of ITERATIONS REACHED LIMIT.\n",
      "\n",
      "Increase the number of iterations (max_iter) or scale the data as shown in:\n",
      "    https://scikit-learn.org/stable/modules/preprocessing.html\n",
      "Please also refer to the documentation for alternative solver options:\n",
      "    https://scikit-learn.org/stable/modules/linear_model.html#logistic-regression\n",
      "  n_iter_i = _check_optimize_result(\n",
      "C:\\Users\\ashwi\\AppData\\Roaming\\Python\\Python39\\site-packages\\sklearn\\linear_model\\_logistic.py:444: ConvergenceWarning: lbfgs failed to converge (status=1):\n",
      "STOP: TOTAL NO. of ITERATIONS REACHED LIMIT.\n",
      "\n",
      "Increase the number of iterations (max_iter) or scale the data as shown in:\n",
      "    https://scikit-learn.org/stable/modules/preprocessing.html\n",
      "Please also refer to the documentation for alternative solver options:\n",
      "    https://scikit-learn.org/stable/modules/linear_model.html#logistic-regression\n",
      "  n_iter_i = _check_optimize_result(\n",
      "C:\\Users\\ashwi\\AppData\\Roaming\\Python\\Python39\\site-packages\\sklearn\\linear_model\\_logistic.py:444: ConvergenceWarning: lbfgs failed to converge (status=1):\n",
      "STOP: TOTAL NO. of ITERATIONS REACHED LIMIT.\n",
      "\n",
      "Increase the number of iterations (max_iter) or scale the data as shown in:\n",
      "    https://scikit-learn.org/stable/modules/preprocessing.html\n",
      "Please also refer to the documentation for alternative solver options:\n",
      "    https://scikit-learn.org/stable/modules/linear_model.html#logistic-regression\n",
      "  n_iter_i = _check_optimize_result(\n"
     ]
    },
    {
     "name": "stdout",
     "output_type": "stream",
     "text": [
      "--Logistic Regression CV\n",
      "Train Score: 0.6407546312080918\n",
      "Test Score: 0.6045454545454545\n",
      "\n",
      "--XGBoost\n",
      "Train Score: 0.7239459029435164\n",
      "Test Score: 0.6718181818181819\n",
      "\n",
      "--Ridge Classifier\n",
      "Train Score: 0.6358677122400272\n",
      "Test Score: 0.6263636363636363\n",
      "\n",
      "--KNN\n",
      "Train Score: 0.7845209682918514\n",
      "Test Score: 0.6577272727272727\n",
      "\n",
      "--Random Forest\n",
      "Train Score: 0.7190589839754518\n",
      "Test Score: 0.6722727272727272\n",
      "\n",
      "--SVM classifier\n",
      "[LibSVM]Train Score: 1.0\n",
      "Test Score: 0.5927272727272728\n",
      "\n"
     ]
    }
   ],
   "source": [
    "\n",
    "lg,lcv,xgb,rg,knn,rf,svc = models_eval_mm(x_train,y_train,x_test,y_test)"
   ]
  },
  {
   "cell_type": "code",
   "execution_count": 9,
   "id": "9426154f",
   "metadata": {},
   "outputs": [
    {
     "name": "stderr",
     "output_type": "stream",
     "text": [
      "C:\\Users\\ashwi\\AppData\\Roaming\\Python\\Python39\\site-packages\\sklearn\\linear_model\\_logistic.py:444: ConvergenceWarning: lbfgs failed to converge (status=1):\n",
      "STOP: TOTAL NO. of ITERATIONS REACHED LIMIT.\n",
      "\n",
      "Increase the number of iterations (max_iter) or scale the data as shown in:\n",
      "    https://scikit-learn.org/stable/modules/preprocessing.html\n",
      "Please also refer to the documentation for alternative solver options:\n",
      "    https://scikit-learn.org/stable/modules/linear_model.html#logistic-regression\n",
      "  n_iter_i = _check_optimize_result(\n",
      "C:\\Users\\ashwi\\AppData\\Roaming\\Python\\Python39\\site-packages\\sklearn\\linear_model\\_logistic.py:444: ConvergenceWarning: lbfgs failed to converge (status=1):\n",
      "STOP: TOTAL NO. of ITERATIONS REACHED LIMIT.\n",
      "\n",
      "Increase the number of iterations (max_iter) or scale the data as shown in:\n",
      "    https://scikit-learn.org/stable/modules/preprocessing.html\n",
      "Please also refer to the documentation for alternative solver options:\n",
      "    https://scikit-learn.org/stable/modules/linear_model.html#logistic-regression\n",
      "  n_iter_i = _check_optimize_result(\n"
     ]
    },
    {
     "name": "stdout",
     "output_type": "stream",
     "text": [
      "--Logistic Regression\n",
      "Train Score: 0.6364359586316627\n",
      "Test Score: 0.5927272727272728\n",
      "\n"
     ]
    },
    {
     "name": "stderr",
     "output_type": "stream",
     "text": [
      "C:\\Users\\ashwi\\AppData\\Roaming\\Python\\Python39\\site-packages\\sklearn\\linear_model\\_logistic.py:444: ConvergenceWarning: lbfgs failed to converge (status=1):\n",
      "STOP: TOTAL NO. of ITERATIONS REACHED LIMIT.\n",
      "\n",
      "Increase the number of iterations (max_iter) or scale the data as shown in:\n",
      "    https://scikit-learn.org/stable/modules/preprocessing.html\n",
      "Please also refer to the documentation for alternative solver options:\n",
      "    https://scikit-learn.org/stable/modules/linear_model.html#logistic-regression\n",
      "  n_iter_i = _check_optimize_result(\n",
      "C:\\Users\\ashwi\\AppData\\Roaming\\Python\\Python39\\site-packages\\sklearn\\linear_model\\_logistic.py:444: ConvergenceWarning: lbfgs failed to converge (status=1):\n",
      "STOP: TOTAL NO. of ITERATIONS REACHED LIMIT.\n",
      "\n",
      "Increase the number of iterations (max_iter) or scale the data as shown in:\n",
      "    https://scikit-learn.org/stable/modules/preprocessing.html\n",
      "Please also refer to the documentation for alternative solver options:\n",
      "    https://scikit-learn.org/stable/modules/linear_model.html#logistic-regression\n",
      "  n_iter_i = _check_optimize_result(\n"
     ]
    },
    {
     "name": "stdout",
     "output_type": "stream",
     "text": [
      "--Logistic Regression CV\n",
      "Train Score: 0.6395044891464939\n",
      "Test Score: 0.6272727272727273\n",
      "\n",
      "--XGBoost\n",
      "Train Score: 0.8860097738379361\n",
      "Test Score: 0.6554545454545454\n",
      "\n",
      "--Ridge Classifier\n",
      "Train Score: 0.6358677122400272\n",
      "Test Score: 0.6263636363636363\n",
      "\n",
      "--KNN\n",
      "Train Score: 0.7845209682918514\n",
      "Test Score: 0.6577272727272727\n",
      "\n",
      "--Random Forest\n",
      "Train Score: 1.0\n",
      "Test Score: 0.65\n",
      "\n",
      "--SVM classifier\n",
      "Train Score: 0.6653028753267417\n",
      "Test Score: 0.6477272727272727\n",
      "\n"
     ]
    }
   ],
   "source": [
    "\n",
    "lg,lcv,xgb,rg,knn,rf,svc = models_eval_mm(x_train,y_train,x_test,y_test)"
   ]
  },
  {
   "cell_type": "markdown",
   "id": "8ed228ad",
   "metadata": {},
   "source": [
    "# Hyperparamter optimisation for SVM"
   ]
  },
  {
   "cell_type": "code",
   "execution_count": null,
   "id": "8cc4cc40",
   "metadata": {},
   "outputs": [],
   "source": [
    "svc = svm.SVC(random_state=1234)\n",
    "params = {\n",
    "    'kernel' : ['poly', 'rbf'],\n",
    "            'C': [ 10, 13], \n",
    "              'gamma': [4,5],\n",
    "    'tol':[1e-1,1e-2,1e-3]\n",
    "        }\n",
    "fitmodel = GridSearchCV(svc, param_grid=params, cv=5, refit=True, scoring=\"accuracy\", n_jobs=-1, verbose=3)\n",
    "fitmodel.fit(x_train_normalized, y_train)\n",
    "print(fitmodel.best_estimator_, fitmodel.best_params_, fitmodel.best_score_)\n",
    "\n",
    "# SVC(C=10, gamma=1, random_state=1234) {'C': 10, 'gamma': 1, 'kernel': 'rbf'} 0.6657575326890279\n",
    "# SVC(C=6, gamma=2, random_state=1234) {'C': 6, 'gamma': 2, 'kernel': 'rbf'} 0.6659845470050132"
   ]
  },
  {
   "cell_type": "code",
   "execution_count": null,
   "id": "368424cc",
   "metadata": {},
   "outputs": [],
   "source": [
    "#svc = svm.SVC(random_state=1234,kernel='rbf',C= 6, gamma= 4) 0.6648482782134334 0.6672727272727272\n",
    "#svc = svm.SVC(random_state=1234,kernel='rbf',C= 5, gamma= 5) 0.6640527332651438 0.6686363636363636\n",
    "#svc = svm.SVC(random_state=1234,kernel='rbf',C= 10, gamma= 5, verbose = 3) 0.6648482782134334 0.6695454545454546\n",
    "#svc = svm.SVC(random_state=1234,kernel='rbf',C= 10, gamma= 5 , tol = 1e-2, verbose = 1) 0.6648482782134334 0.6704545454545454\n",
    "svc = svm.SVC(random_state=1234,kernel='rbf',C= 10, gamma= 5 , tol = 1e-2,verbose = 1)\n",
    "svc.fit(x_train_normalized, y_train)\n",
    "print('train score',svc.score(x_train_normalized,y_train))\n",
    "print('test score',svc.score(x_test_normalized,y_test))"
   ]
  },
  {
   "cell_type": "markdown",
   "id": "5bc2196a",
   "metadata": {},
   "source": [
    "# Hyperparameter optimisation for XGboost"
   ]
  },
  {
   "cell_type": "code",
   "execution_count": null,
   "id": "1e4ead7c",
   "metadata": {},
   "outputs": [],
   "source": [
    "params = {\n",
    "        'min_child_weight': [10,20],\n",
    "        'gamma': [1.5, 2.0, 2.5],\n",
    "        'colsample_bytree': [0.6, 0.8, 0.9],\n",
    "        'max_depth': [4,5,6]\n",
    "        }\n",
    "xgb = XGBClassifier(learning_rate=0.5, n_estimators=100, objective='binary:logistic', nthread=3)\n",
    "fitmodel = GridSearchCV(xgb, param_grid=params, cv=5, refit=True, scoring=\"accuracy\", n_jobs=-1, verbose=3)\n",
    "fitmodel.fit(x_train_normalized, y_train)\n",
    "print(fitmodel.best_estimator_, fitmodel.best_params_, fitmodel.best_score_)\n",
    "\n",
    "# {'colsample_bytree': 0.8, 'gamma': 2.0, 'max_depth': 4, 'min_child_weight': 10} 0.6608713628611298"
   ]
  },
  {
   "cell_type": "markdown",
   "id": "5e8f2da4",
   "metadata": {},
   "source": [
    "# Random Forest Hyperparameter optimisation"
   ]
  },
  {
   "cell_type": "code",
   "execution_count": null,
   "id": "5ab231b7",
   "metadata": {},
   "outputs": [],
   "source": [
    "# Plug in appropriate max_depth and random_state parameters\n",
    "rf = RandomForestClassifier()\n",
    "rf_param_grid = {\n",
    "    'n_estimators': [200,300,500], \n",
    "    'criterion': ['entropy','gini'],\n",
    "    'max_depth': [7,8,60,80,100],\n",
    "    'max_features': ['auto', 'sqrt', 'log2']\n",
    "}\n",
    "rf_cv= GridSearchCV(rf,rf_param_grid,cv=7,scoring=\"accuracy\", n_jobs=-1, verbose=3)\n",
    "rf_cv.fit(x_train_normalized,y_train)\n",
    "\n",
    "print(\"Best Score:\" + str(rf_cv.best_score_))\n",
    "print(\"Best Parameters: \" + str(rf_cv.best_params_))\n",
    "\n",
    "#Best Score:0.6849642004773271\n",
    "#Best Parameters: {'criterion': 'entropy', 'max_depth': 7, 'max_features': 'auto', 'n_estimators': 200}"
   ]
  },
  {
   "cell_type": "code",
   "execution_count": 34,
   "id": "e00dcc82",
   "metadata": {},
   "outputs": [
    {
     "name": "stdout",
     "output_type": "stream",
     "text": [
      "train 0.7475849528355495\n",
      "test 0.6777272727272727\n"
     ]
    }
   ],
   "source": [
    "# DEPLOYING model\n",
    "rf = RandomForestClassifier(criterion= 'gini', max_depth= 8, max_features= 'log2', n_estimators= 80)\n",
    "\n",
    "rf.fit(x_train_normalized,y_train)\n",
    "print('train',rf.score(x_train_normalized,y_train))\n",
    "print('test',rf.score(x_test_normalized,y_test))\n",
    "\n",
    "#train 0.7034890328446415\n",
    "#test 0.6872727272727273"
   ]
  },
  {
   "cell_type": "markdown",
   "id": "ff3a5be6",
   "metadata": {},
   "source": [
    "# Logistic regression hyperparameter optimisation"
   ]
  },
  {
   "cell_type": "code",
   "execution_count": null,
   "id": "800f0bf1",
   "metadata": {},
   "outputs": [],
   "source": [
    "# Plug in appropriate max_depth and random_state parameters\n",
    "lg = LogisticRegressionCV(n_jobs=-1,random_state= 1234)\n",
    "lg_param_grid = {\n",
    "    'Cs': [6,8,10,15,20],\n",
    "     'max_iter': [60,80,100]\n",
    "}\n",
    "lg_cv= GridSearchCV(lg,lg_param_grid,cv=5,scoring=\"accuracy\", n_jobs=-1, verbose=3)\n",
    "lg_cv.fit(x_train_normalized,y_train)\n",
    "\n",
    "print(\"Best Score:\" + str(lg_cv.best_score_))\n",
    "print(\"Best Parameters: \" + str(lg_cv.best_params_))\n",
    "\n",
    "#Best Score:0.633821644529433\n",
    "#Best Parameters: {'Cs': 10, 'max_iter': 60}"
   ]
  },
  {
   "cell_type": "markdown",
   "id": "70ca1091",
   "metadata": {},
   "source": [
    "# Model Evaluation"
   ]
  },
  {
   "cell_type": "code",
   "execution_count": 25,
   "id": "89628fac",
   "metadata": {},
   "outputs": [],
   "source": [
    "def eval(name,model):\n",
    "    y_pred = model.predict(x_test_normalized)\n",
    "    result =[]\n",
    "    result.append(name)\n",
    "    result.append(\"{:.2f}\".format(accuracy_score(y_test, y_pred) * 100))\n",
    "    result.append(\"{:.2f}\".format(f1_score(y_test, y_pred) * 100))\n",
    "    result.append(\"{:.2f}\".format(recall_score(y_test, y_pred) * 100))\n",
    "    result.append(\"{:.2f}\".format(precision_score(y_test, y_pred) * 100))\n",
    "    return result"
   ]
  },
  {
   "cell_type": "code",
   "execution_count": 29,
   "id": "1337838a",
   "metadata": {},
   "outputs": [
    {
     "data": {
      "text/html": [
       "<div>\n",
       "<style scoped>\n",
       "    .dataframe tbody tr th:only-of-type {\n",
       "        vertical-align: middle;\n",
       "    }\n",
       "\n",
       "    .dataframe tbody tr th {\n",
       "        vertical-align: top;\n",
       "    }\n",
       "\n",
       "    .dataframe thead th {\n",
       "        text-align: right;\n",
       "    }\n",
       "</style>\n",
       "<table border=\"1\" class=\"dataframe\">\n",
       "  <thead>\n",
       "    <tr style=\"text-align: right;\">\n",
       "      <th></th>\n",
       "      <th>Name</th>\n",
       "      <th>Accuracy</th>\n",
       "      <th>f1_score</th>\n",
       "      <th>Recall</th>\n",
       "      <th>Precision</th>\n",
       "    </tr>\n",
       "  </thead>\n",
       "  <tbody>\n",
       "    <tr>\n",
       "      <th>0</th>\n",
       "      <td>logistic regression</td>\n",
       "      <td>59.27</td>\n",
       "      <td>74.43</td>\n",
       "      <td>100.00</td>\n",
       "      <td>59.27</td>\n",
       "    </tr>\n",
       "    <tr>\n",
       "      <th>1</th>\n",
       "      <td>logistic regression CV</td>\n",
       "      <td>63.27</td>\n",
       "      <td>66.78</td>\n",
       "      <td>62.27</td>\n",
       "      <td>71.99</td>\n",
       "    </tr>\n",
       "    <tr>\n",
       "      <th>2</th>\n",
       "      <td>XGBoost</td>\n",
       "      <td>65.59</td>\n",
       "      <td>69.63</td>\n",
       "      <td>66.56</td>\n",
       "      <td>73.00</td>\n",
       "    </tr>\n",
       "    <tr>\n",
       "      <th>3</th>\n",
       "      <td>Ridge classifier</td>\n",
       "      <td>59.27</td>\n",
       "      <td>74.43</td>\n",
       "      <td>100.00</td>\n",
       "      <td>59.27</td>\n",
       "    </tr>\n",
       "    <tr>\n",
       "      <th>4</th>\n",
       "      <td>KNN</td>\n",
       "      <td>63.27</td>\n",
       "      <td>68.39</td>\n",
       "      <td>67.02</td>\n",
       "      <td>69.81</td>\n",
       "    </tr>\n",
       "    <tr>\n",
       "      <th>5</th>\n",
       "      <td>Random Forest</td>\n",
       "      <td>67.18</td>\n",
       "      <td>70.36</td>\n",
       "      <td>65.72</td>\n",
       "      <td>75.71</td>\n",
       "    </tr>\n",
       "    <tr>\n",
       "      <th>6</th>\n",
       "      <td>Support Vector Classifier</td>\n",
       "      <td>59.27</td>\n",
       "      <td>74.43</td>\n",
       "      <td>100.00</td>\n",
       "      <td>59.27</td>\n",
       "    </tr>\n",
       "  </tbody>\n",
       "</table>\n",
       "</div>"
      ],
      "text/plain": [
       "                        Name Accuracy f1_score  Recall Precision\n",
       "0        logistic regression    59.27    74.43  100.00     59.27\n",
       "1     logistic regression CV    63.27    66.78   62.27     71.99\n",
       "2                    XGBoost    65.59    69.63   66.56     73.00\n",
       "3           Ridge classifier    59.27    74.43  100.00     59.27\n",
       "4                        KNN    63.27    68.39   67.02     69.81\n",
       "5              Random Forest    67.18    70.36   65.72     75.71\n",
       "6  Support Vector Classifier    59.27    74.43  100.00     59.27"
      ]
     },
     "execution_count": 29,
     "metadata": {},
     "output_type": "execute_result"
    }
   ],
   "source": [
    "model_list = {\n",
    "    'logistic regression':lg,\n",
    "    'logistic regression CV':lcv,\n",
    "    'XGBoost':xgb,\n",
    "    'Ridge classifier':rg,\n",
    "    'KNN':knn,\n",
    "    'Random Forest':rf,\n",
    "    'Support Vector Classifier':svc\n",
    "}\n",
    "model_eval_info = []\n",
    "\n",
    "for i in model_list.keys():\n",
    "    model_eval_info.append(eval(i,model_list[i]))\n",
    "model_eval_info = pd.DataFrame(model_eval_info,columns=['Name','Accuracy','f1_score','Recall','Precision'])\n",
    "model_eval_info.to_csv('model_eval.csv')\n",
    "model_eval_info"
   ]
  },
  {
   "cell_type": "code",
   "execution_count": 25,
   "id": "08037e4f",
   "metadata": {},
   "outputs": [
    {
     "data": {
      "text/plain": [
       "dict_keys(['logistic regression', 'logistic regression CV', 'XGBoost', 'Ridge classifier', 'KNN', 'Random Forest', 'Support Vector Classifier'])"
      ]
     },
     "execution_count": 25,
     "metadata": {},
     "output_type": "execute_result"
    }
   ],
   "source": [
    "model_list.keys()"
   ]
  },
  {
   "cell_type": "code",
   "execution_count": 2,
   "id": "cda9e045",
   "metadata": {},
   "outputs": [
    {
     "data": {
      "text/html": [
       "<div>\n",
       "<style scoped>\n",
       "    .dataframe tbody tr th:only-of-type {\n",
       "        vertical-align: middle;\n",
       "    }\n",
       "\n",
       "    .dataframe tbody tr th {\n",
       "        vertical-align: top;\n",
       "    }\n",
       "\n",
       "    .dataframe thead th {\n",
       "        text-align: right;\n",
       "    }\n",
       "</style>\n",
       "<table border=\"1\" class=\"dataframe\">\n",
       "  <thead>\n",
       "    <tr style=\"text-align: right;\">\n",
       "      <th></th>\n",
       "      <th>Unnamed: 0</th>\n",
       "      <th>Name</th>\n",
       "      <th>Accuracy</th>\n",
       "      <th>f1_score</th>\n",
       "      <th>Recall</th>\n",
       "      <th>Precision</th>\n",
       "    </tr>\n",
       "  </thead>\n",
       "  <tbody>\n",
       "    <tr>\n",
       "      <th>0</th>\n",
       "      <td>0</td>\n",
       "      <td>logistic regression</td>\n",
       "      <td>59.27</td>\n",
       "      <td>74.43</td>\n",
       "      <td>100.00</td>\n",
       "      <td>59.27</td>\n",
       "    </tr>\n",
       "    <tr>\n",
       "      <th>1</th>\n",
       "      <td>1</td>\n",
       "      <td>logistic regression CV</td>\n",
       "      <td>63.27</td>\n",
       "      <td>66.78</td>\n",
       "      <td>62.27</td>\n",
       "      <td>71.99</td>\n",
       "    </tr>\n",
       "    <tr>\n",
       "      <th>2</th>\n",
       "      <td>2</td>\n",
       "      <td>XGBoost</td>\n",
       "      <td>65.27</td>\n",
       "      <td>68.84</td>\n",
       "      <td>64.72</td>\n",
       "      <td>73.52</td>\n",
       "    </tr>\n",
       "    <tr>\n",
       "      <th>3</th>\n",
       "      <td>3</td>\n",
       "      <td>Ridge classifier</td>\n",
       "      <td>59.27</td>\n",
       "      <td>74.43</td>\n",
       "      <td>100.00</td>\n",
       "      <td>59.27</td>\n",
       "    </tr>\n",
       "    <tr>\n",
       "      <th>4</th>\n",
       "      <td>4</td>\n",
       "      <td>KNN</td>\n",
       "      <td>63.27</td>\n",
       "      <td>68.39</td>\n",
       "      <td>67.02</td>\n",
       "      <td>69.81</td>\n",
       "    </tr>\n",
       "    <tr>\n",
       "      <th>5</th>\n",
       "      <td>5</td>\n",
       "      <td>Random Forest</td>\n",
       "      <td>67.55</td>\n",
       "      <td>66.38</td>\n",
       "      <td>54.06</td>\n",
       "      <td>85.98</td>\n",
       "    </tr>\n",
       "    <tr>\n",
       "      <th>6</th>\n",
       "      <td>6</td>\n",
       "      <td>Support Vector Classifier</td>\n",
       "      <td>67.05</td>\n",
       "      <td>69.06</td>\n",
       "      <td>62.04</td>\n",
       "      <td>77.86</td>\n",
       "    </tr>\n",
       "  </tbody>\n",
       "</table>\n",
       "</div>"
      ],
      "text/plain": [
       "   Unnamed: 0                       Name  Accuracy  f1_score  Recall  \\\n",
       "0           0        logistic regression     59.27     74.43  100.00   \n",
       "1           1     logistic regression CV     63.27     66.78   62.27   \n",
       "2           2                    XGBoost     65.27     68.84   64.72   \n",
       "3           3           Ridge classifier     59.27     74.43  100.00   \n",
       "4           4                        KNN     63.27     68.39   67.02   \n",
       "5           5              Random Forest     67.55     66.38   54.06   \n",
       "6           6  Support Vector Classifier     67.05     69.06   62.04   \n",
       "\n",
       "   Precision  \n",
       "0      59.27  \n",
       "1      71.99  \n",
       "2      73.52  \n",
       "3      59.27  \n",
       "4      69.81  \n",
       "5      85.98  \n",
       "6      77.86  "
      ]
     },
     "execution_count": 2,
     "metadata": {},
     "output_type": "execute_result"
    }
   ],
   "source": [
    "import pandas as pd\n",
    "import seaborn as sns\n",
    "df = pd.read_csv('model_eval.csv')\n",
    "df"
   ]
  },
  {
   "cell_type": "code",
   "execution_count": 29,
   "id": "2b579902",
   "metadata": {
    "scrolled": true
   },
   "outputs": [
    {
     "data": {
      "image/png": "[encoded data removed]",
      "text/plain": [
       "<Figure size 1440x864 with 1 Axes>"
      ]
     },
     "metadata": {
      "needs_background": "light"
     },
     "output_type": "display_data"
    },
    {
     "data": {
      "image/png": "[encoded data removed]",
      "text/plain": [
       "<Figure size 1440x864 with 1 Axes>"
      ]
     },
     "metadata": {
      "needs_background": "light"
     },
     "output_type": "display_data"
    },
    {
     "data": {
      "image/png": "[encoded data removed]",
      "text/plain": [
       "<Figure size 1440x864 with 1 Axes>"
      ]
     },
     "metadata": {
      "needs_background": "light"
     },
     "output_type": "display_data"
    },
    {
     "data": {
      "image/png": "[encoded data removed]",
      "text/plain": [
       "<Figure size 1440x864 with 1 Axes>"
      ]
     },
     "metadata": {
      "needs_background": "light"
     },
     "output_type": "display_data"
    }
   ],
   "source": [
    "\n",
    "import matplotlib.pyplot as plt\n",
    "\n",
    "\n",
    "for i in df.columns[2:]:\n",
    "    plt.figure(figsize=(20, 12))\n",
    "    plt.title(i,fontsize=20)\n",
    "    b=sns.barplot(y='Name',x=i,data=df,order=df.sort_values(i,ascending = False).Name)\n",
    "    b.tick_params(labelsize=20)\n",
    "    b.bar_label(b.containers[0])\n",
    "    plt.show()"
   ]
  },
  {
   "cell_type": "markdown",
   "id": "b3650e9a",
   "metadata": {},
   "source": [
    "# Saving model"
   ]
  },
  {
   "cell_type": "code",
   "execution_count": 56,
   "id": "d523fd35",
   "metadata": {},
   "outputs": [],
   "source": [
    "import pickle as pkl"
   ]
  },
  {
   "cell_type": "code",
   "execution_count": 146,
   "id": "4dc4aa50",
   "metadata": {},
   "outputs": [],
   "source": [
    "pkl.dump(rf, open('rf_acc_68.pkl', 'wb'))"
   ]
  },
  {
   "cell_type": "code",
   "execution_count": 57,
   "id": "6d1f22a7",
   "metadata": {},
   "outputs": [],
   "source": [
    "pkl.dump(Data_normalizer, open('normalizer.pkl', 'wb'))"
   ]
  },
  {
   "cell_type": "markdown",
   "id": "dadeb669",
   "metadata": {},
   "source": [
    "# Load model"
   ]
  },
  {
   "cell_type": "code",
   "execution_count": 147,
   "id": "1051ea5d",
   "metadata": {},
   "outputs": [],
   "source": [
    "model = pkl.load(open('rf_acc_68.pkl', 'rb'))"
   ]
  },
  {
   "cell_type": "code",
   "execution_count": 159,
   "id": "7ad7a881",
   "metadata": {},
   "outputs": [
    {
     "data": {
      "text/plain": [
       "array([0], dtype=int64)"
      ]
     },
     "execution_count": 159,
     "metadata": {},
     "output_type": "execute_result"
    }
   ],
   "source": [
    "model.predict(x_test_normalized[0].reshape(1,-1))"
   ]
  },
  {
   "cell_type": "markdown",
   "id": "8547abc8",
   "metadata": {},
   "source": [
    "# Model Testing/Inference"
   ]
  },
  {
   "cell_type": "code",
   "execution_count": 77,
   "id": "d8b2780f",
   "metadata": {},
   "outputs": [
    {
     "name": "stdout",
     "output_type": "stream",
     "text": [
      "0.49438180443075536 0.5056181955692446\n",
      "There is a 49.44 % chance that your product will reach in time and 49.44 % chance that your product will not reach in time\n",
      "[0]\n",
      "0.5443919598499957 0.4556080401500043\n",
      "There is a 54.44 % chance that your product will reach in time and 54.44 % chance that your product will not reach in time\n",
      "[1]\n",
      "0.42455502625677766 0.5754449737432223\n",
      "There is a 42.46 % chance that your product will reach in time and 42.46 % chance that your product will not reach in time\n",
      "[0]\n",
      "0.9277379491906207 0.07226205080937938\n",
      "There is a 92.77 % chance that your product will reach in time and 92.77 % chance that your product will not reach in time\n",
      "[1]\n",
      "0.4383697666669004 0.5616302333330996\n",
      "There is a 43.84 % chance that your product will reach in time and 43.84 % chance that your product will not reach in time\n",
      "[0]\n",
      "0.4482565722328139 0.5517434277671862\n",
      "There is a 44.83 % chance that your product will reach in time and 44.83 % chance that your product will not reach in time\n",
      "[0]\n",
      "0.4495004402259527 0.5504995597740472\n",
      "There is a 44.95 % chance that your product will reach in time and 44.95 % chance that your product will not reach in time\n",
      "[0]\n",
      "0.4934835904515552 0.5065164095484448\n",
      "There is a 49.35 % chance that your product will reach in time and 49.35 % chance that your product will not reach in time\n",
      "[0]\n",
      "0.4286796164707924 0.5713203835292076\n",
      "There is a 42.87 % chance that your product will reach in time and 42.87 % chance that your product will not reach in time\n",
      "[0]\n",
      "0.5100451824841744 0.4899548175158255\n",
      "There is a 51.00 % chance that your product will reach in time and 51.00 % chance that your product will not reach in time\n",
      "[1]\n"
     ]
    }
   ],
   "source": [
    "for i in x_test_normalized[:10]:\n",
    "    prob=model.predict_proba(i.reshape(1,-1))[0]\n",
    "    n_reach = prob[0]\n",
    "    reach = prob[1]\n",
    "    print(reach,n_reach)\n",
    "    print('There is a {0:.2f} % chance that your product will reach in time and {0:.2f} % chance that your product will not reach in time'.format(reach*100,n_reach*100))\n",
    "    \n",
    "    print(model.predict(i.reshape(1,-1)))"
   ]
  },
  {
   "cell_type": "markdown",
   "id": "49500245",
   "metadata": {},
   "source": [
    "# Flask Code"
   ]
  },
  {
   "cell_type": "code",
   "execution_count": 31,
   "id": "a509380a",
   "metadata": {},
   "outputs": [
    {
     "data": {
      "text/plain": [
       "'1.1.2'"
      ]
     },
     "execution_count": 31,
     "metadata": {},
     "output_type": "execute_result"
    }
   ],
   "source": [
    "import sklearn\n",
    "sklearn.__version__"
   ]
  },
  {
   "cell_type": "code",
   "execution_count": 83,
   "id": "f93944c7",
   "metadata": {
    "scrolled": true
   },
   "outputs": [
    {
     "name": "stdout",
     "output_type": "stream",
     "text": [
      " * Serving Flask app \"__main__\" (lazy loading)\n",
      " * Environment: production\n",
      "\u001b[31m   WARNING: This is a development server. Do not use it in a production deployment.\u001b[0m\n",
      "\u001b[2m   Use a production WSGI server instead.\u001b[0m\n",
      " * Debug mode: off\n"
     ]
    },
    {
     "name": "stderr",
     "output_type": "stream",
     "text": [
      " * Running on http://127.0.0.1:4000/ (Press CTRL+C to quit)\n",
      "C:\\Users\\ashwi\\AppData\\Roaming\\Python\\Python39\\site-packages\\sklearn\\base.py:450: UserWarning: X does not have valid feature names, but Normalizer was fitted with feature names\n",
      "  warnings.warn(\n",
      "C:\\Users\\ashwi\\AppData\\Roaming\\Python\\Python39\\site-packages\\sklearn\\base.py:450: UserWarning: X does not have valid feature names, but Normalizer was fitted with feature names\n",
      "  warnings.warn(\n",
      "127.0.0.1 - - [28/Feb/2023 15:49:49] \"POST /predict HTTP/1.1\" 200 -\n"
     ]
    },
    {
     "name": "stdout",
     "output_type": "stream",
     "text": [
      "There is a 95.24 % chance that your product will reach in time\n",
      "[1]\n"
     ]
    },
    {
     "name": "stderr",
     "output_type": "stream",
     "text": [
      "C:\\Users\\ashwi\\AppData\\Roaming\\Python\\Python39\\site-packages\\sklearn\\base.py:450: UserWarning: X does not have valid feature names, but Normalizer was fitted with feature names\n",
      "  warnings.warn(\n",
      "C:\\Users\\ashwi\\AppData\\Roaming\\Python\\Python39\\site-packages\\sklearn\\base.py:450: UserWarning: X does not have valid feature names, but Normalizer was fitted with feature names\n",
      "  warnings.warn(\n",
      "127.0.0.1 - - [28/Feb/2023 15:50:26] \"POST /predict HTTP/1.1\" 200 -\n"
     ]
    },
    {
     "name": "stdout",
     "output_type": "stream",
     "text": [
      "There is a 89.96 % chance that your product will reach in time\n",
      "[1]\n"
     ]
    }
   ],
   "source": [
    "import pickle\n",
    "from flask import Flask , request, render_template\n",
    "\n",
    "app = Flask(__name__)\n",
    "model = pickle.load(open(\"rf_acc_68.pkl\",\"rb\"))\n",
    "Data_normalizer = pickle.load(open(\"normalizer.pkl\",\"rb\"))\n",
    "@app.route('/')\n",
    "def indput():\n",
    "    return render_template('index.html')\n",
    "\n",
    "@app.route('/predict',methods = ['GET','POST'])\n",
    "def admin():\n",
    "    Warehouse_block=eval(request.form[\"Warehouse_block\"])\n",
    "    Mode_of_Shipment=eval(request.form[\"Mode_of_Shipment\"])\n",
    "    Customer_care_calls=eval(request.form[\"Customer_care_calls\"])\n",
    "    Customer_rating=eval(request.form[\"Customer_rating\"])\n",
    "    Cost_of_the_Product = eval(request.form[\"Cost_of_the_Product\"])\n",
    "    Prior_purchases = eval(request.form[\"Prior_purchases\"])\n",
    "    Product_importance = eval(request.form[\"Product_importance\"])\n",
    "    Gender = eval(request.form[\"Gender\"])\n",
    "    Discount_offered = eval(request.form[\"Discount_offered\"])\n",
    "    Weight_in_gms = eval(request.form[\"Weight_in_gms\"])\n",
    "    \n",
    "    preds=[[Warehouse_block,Mode_of_Shipment,Customer_care_calls,Customer_rating,Cost_of_the_Product,\n",
    "           Prior_purchases,Product_importance,Gender,Discount_offered,Weight_in_gms]]\n",
    "    xx=model.predict(Data_normalizer.transform(preds))\n",
    "    prob=model.predict_proba(Data_normalizer.transform(preds))[0]\n",
    "    n_reach = prob[0]\n",
    "    reach = prob[1]\n",
    "    print('There is a {0:.2f} % chance that your product will reach in time'.format(reach*100))\n",
    "    print(xx)\n",
    "    return render_template(\"index.html\",p='There is a {0:.2f} % chance that your product will reach in time'.format(reach*100))\n",
    "if __name__ == '__main__':\n",
    "    app.run(debug = False, port=4000)"
   ]
  },
  {
   "cell_type": "markdown",
   "id": "fb8fbd08",
   "metadata": {},
   "source": [
    "# IBM Deployment Code\n",
    "Should be executed on IBM cloud notebook"
   ]
  },
  {
   "cell_type": "code",
   "execution_count": 24,
   "id": "324cf84d",
   "metadata": {},
   "outputs": [
    {
     "name": "stdout",
     "output_type": "stream",
     "text": [
      "Requirement already satisfied: ibm_watson_machine_learning in /opt/conda/envs/Python-3.10/lib/python3.10/site-packages (1.0.280)\n",
      "Requirement already satisfied: certifi in /opt/conda/envs/Python-3.10/lib/python3.10/site-packages (from ibm_watson_machine_learning) (2022.12.7)\n",
      "Requirement already satisfied: tabulate in /opt/conda/envs/Python-3.10/lib/python3.10/site-packages (from ibm_watson_machine_learning) (0.8.10)\n",
      "Requirement already satisfied: importlib-metadata in /opt/conda/envs/Python-3.10/lib/python3.10/site-packages (from ibm_watson_machine_learning) (4.11.3)\n",
      "Requirement already satisfied: pandas<1.5.0,>=0.24.2 in /opt/conda/envs/Python-3.10/lib/python3.10/site-packages (from ibm_watson_machine_learning) (1.4.3)\n",
      "Requirement already satisfied: ibm-cos-sdk==2.12.* in /opt/conda/envs/Python-3.10/lib/python3.10/site-packages (from ibm_watson_machine_learning) (2.12.0)\n",
      "Requirement already satisfied: packaging in /opt/conda/envs/Python-3.10/lib/python3.10/site-packages (from ibm_watson_machine_learning) (21.3)\n",
      "Requirement already satisfied: requests in /opt/conda/envs/Python-3.10/lib/python3.10/site-packages (from ibm_watson_machine_learning) (2.28.1)\n",
      "Requirement already satisfied: lomond in /opt/conda/envs/Python-3.10/lib/python3.10/site-packages (from ibm_watson_machine_learning) (0.3.3)\n",
      "Requirement already satisfied: urllib3 in /opt/conda/envs/Python-3.10/lib/python3.10/site-packages (from ibm_watson_machine_learning) (1.26.11)\n",
      "Requirement already satisfied: ibm-cos-sdk-s3transfer==2.12.0 in /opt/conda/envs/Python-3.10/lib/python3.10/site-packages (from ibm-cos-sdk==2.12.*->ibm_watson_machine_learning) (2.12.0)\n",
      "Requirement already satisfied: jmespath<1.0.0,>=0.10.0 in /opt/conda/envs/Python-3.10/lib/python3.10/site-packages (from ibm-cos-sdk==2.12.*->ibm_watson_machine_learning) (0.10.0)\n",
      "Requirement already satisfied: ibm-cos-sdk-core==2.12.0 in /opt/conda/envs/Python-3.10/lib/python3.10/site-packages (from ibm-cos-sdk==2.12.*->ibm_watson_machine_learning) (2.12.0)\n",
      "Requirement already satisfied: python-dateutil<3.0.0,>=2.8.2 in /opt/conda/envs/Python-3.10/lib/python3.10/site-packages (from ibm-cos-sdk-core==2.12.0->ibm-cos-sdk==2.12.*->ibm_watson_machine_learning) (2.8.2)\n",
      "Requirement already satisfied: pytz>=2020.1 in /opt/conda/envs/Python-3.10/lib/python3.10/site-packages (from pandas<1.5.0,>=0.24.2->ibm_watson_machine_learning) (2022.1)\n",
      "Requirement already satisfied: numpy>=1.21.0 in /opt/conda/envs/Python-3.10/lib/python3.10/site-packages (from pandas<1.5.0,>=0.24.2->ibm_watson_machine_learning) (1.23.1)\n",
      "Requirement already satisfied: charset-normalizer<3,>=2 in /opt/conda/envs/Python-3.10/lib/python3.10/site-packages (from requests->ibm_watson_machine_learning) (2.0.4)\n",
      "Requirement already satisfied: idna<4,>=2.5 in /opt/conda/envs/Python-3.10/lib/python3.10/site-packages (from requests->ibm_watson_machine_learning) (3.3)\n",
      "Requirement already satisfied: zipp>=0.5 in /opt/conda/envs/Python-3.10/lib/python3.10/site-packages (from importlib-metadata->ibm_watson_machine_learning) (3.8.0)\n",
      "Requirement already satisfied: six>=1.10.0 in /opt/conda/envs/Python-3.10/lib/python3.10/site-packages (from lomond->ibm_watson_machine_learning) (1.16.0)\n",
      "Requirement already satisfied: pyparsing!=3.0.5,>=2.0.2 in /opt/conda/envs/Python-3.10/lib/python3.10/site-packages (from packaging->ibm_watson_machine_learning) (3.0.9)\n"
     ]
    }
   ],
   "source": [
    "!pip install ibm_watson_machine_learning"
   ]
  },
  {
   "cell_type": "code",
   "execution_count": 40,
   "id": "faafe02a",
   "metadata": {},
   "outputs": [],
   "source": [
    "from ibm_watson_machine_learning import APIClient\n",
    "wml_credentials = {\n",
    "    \"url\":\"https://us-south.ml.cloud.ibm.com\",\n",
    "    \"apikey\":\"_N4SZtGsywwrfdPsVUDXxJvq5sS8DTfhD7kDKmu1x0RX\"\n",
    "}\n",
    "client = APIClient(wml_credentials)"
   ]
  },
  {
   "cell_type": "code",
   "execution_count": 41,
   "id": "615d4503",
   "metadata": {},
   "outputs": [],
   "source": [
    "def guid_from_space_name(client, space_name):\n",
    "    space=client.spaces.get_details()\n",
    "    return (next(item for item in space['resources'] if item['entity']['name'] == space_name)['metadata']['id'])"
   ]
  },
  {
   "cell_type": "code",
   "execution_count": 42,
   "id": "33ddd9ea",
   "metadata": {},
   "outputs": [
    {
     "name": "stdout",
     "output_type": "stream",
     "text": [
      "Space uid:   5414af83-b815-459c-97e8-0492828b44d4\n"
     ]
    }
   ],
   "source": [
    "space_uid = guid_from_space_name(client,'Model Deployments')\n",
    "print(\"Space uid:  \",space_uid)"
   ]
  },
  {
   "cell_type": "code",
   "execution_count": 43,
   "id": "8787d700",
   "metadata": {},
   "outputs": [
    {
     "data": {
      "text/plain": [
       "'SUCCESS'"
      ]
     },
     "execution_count": 43,
     "metadata": {},
     "output_type": "execute_result"
    }
   ],
   "source": [
    "client.set.default_space(space_uid)"
   ]
  },
  {
   "cell_type": "code",
   "execution_count": 30,
   "id": "b7381afd",
   "metadata": {},
   "outputs": [
    {
     "name": "stdout",
     "output_type": "stream",
     "text": [
      "-----------------------------  ------------------------------------  ----  ------------------  -------------------------------\n",
      "NAME                           ID                                    TYPE  STATE               REPLACEMENT\n",
      "default_py3.6                  0062b8c9-8b7d-44a0-a9b9-46c416adcbd9  base  unsupported         runtime-22.1-py3.9\n",
      "kernel-spark3.2-scala2.12      020d69ce-7ac1-5e68-ac1a-31189867356a  base  not_provided\n",
      "pytorch-onnx_1.3-py3.7-edt     069ea134-3346-5748-b513-49120e15d288  base  not_provided\n",
      "scikit-learn_0.20-py3.6        09c5a1d0-9c1e-4473-a344-eb7b665ff687  base  unsupported         runtime-22.1-py3.9\n",
      "spark-mllib_3.0-scala_2.12     09f4cff0-90a7-5899-b9ed-1ef348aebdee  base  unsupported\n",
      "pytorch-onnx_rt22.1-py3.9      0b848dd4-e681-5599-be41-b5f6fccc6471  base  supported\n",
      "ai-function_0.1-py3.6          0cdb0f1e-5376-4f4d-92dd-da3b69aa9bda  base  unsupported         runtime-22.1-py3.9\n",
      "shiny-r3.6                     0e6e79df-875e-4f24-8ae9-62dcc2148306  base  not_provided\n",
      "tensorflow_2.4-py3.7-horovod   1092590a-307d-563d-9b62-4eb7d64b3f22  base  unsupported         tensorflow_rt22.1-py3.9-horovod\n",
      "pytorch_1.1-py3.6              10ac12d6-6b30-4ccd-8392-3e922c096a92  base  unsupported\n",
      "tensorflow_1.15-py3.6-ddl      111e41b3-de2d-5422-a4d6-bf776828c4b7  base  unsupported\n",
      "autoai-kb_rt22.2-py3.10        125b6d9a-5b1f-5e8d-972a-b251688ccf40  base  supported\n",
      "runtime-22.1-py3.9             12b83a17-24d8-5082-900f-0ab31fbfd3cb  base  supported\n",
      "scikit-learn_0.22-py3.6        154010fa-5b3b-4ac1-82af-4d5ee5abbc85  base  unsupported         runtime-22.1-py3.9\n",
      "default_r3.6                   1b70aec3-ab34-4b87-8aa0-a4a3c8296a36  base  deprecated\n",
      "pytorch-onnx_1.3-py3.6         1bc6029a-cc97-56da-b8e0-39c3880dbbe7  base  unsupported         runtime-22.1-py3.9\n",
      "kernel-spark3.3-r3.6           1c9e5454-f216-59dd-a20e-474a5cdf5988  base  not_provided\n",
      "pytorch-onnx_rt22.1-py3.9-edt  1d362186-7ad5-5b59-8b6c-9d0880bde37f  base  supported\n",
      "tensorflow_2.1-py3.6           1eb25b84-d6ed-5dde-b6a5-3fbdf1665666  base  unsupported         runtime-22.1-py3.9\n",
      "spark-mllib_3.2                20047f72-0a98-58c7-9ff5-a77b012eb8f5  base  unsupported         spark-mllib_3.3\n",
      "tensorflow_2.4-py3.8-horovod   217c16f6-178f-56bf-824a-b19f20564c49  base  unsupported         tensorflow_rt22.1-py3.9-horovod\n",
      "runtime-22.1-py3.9-cuda        26215f05-08c3-5a41-a1b0-da66306ce658  base  supported\n",
      "do_py3.8                       295addb5-9ef9-547e-9bf4-92ae3563e720  base  not_provided\n",
      "autoai-ts_3.8-py3.8            2aa0c932-798f-5ae9-abd6-15e0c2402fb5  base  unsupported         autoai-ts_rt22.1-py3.9\n",
      "tensorflow_1.15-py3.6          2b73a275-7cbf-420b-a912-eae7f436e0bc  base  unsupported         runtime-22.1-py3.9\n",
      "kernel-spark3.3-py3.9          2b7961e2-e3b1-5a8c-a491-482c8368839a  base  not_provided\n",
      "pytorch_1.2-py3.6              2c8ef57d-2687-4b7d-acce-01f94976dac1  base  unsupported         runtime-22.1-py3.9\n",
      "spark-mllib_2.3                2e51f700-bca0-4b0d-88dc-5c6791338875  base  create-unsupported  spark-mllib_3.3\n",
      "pytorch-onnx_1.1-py3.6-edt     32983cea-3f32-4400-8965-dde874a8d67e  base  unsupported\n",
      "spark-mllib_3.0-py37           36507ebe-8770-55ba-ab2a-eafe787600e9  base  unsupported         spark-mllib_3.3\n",
      "spark-mllib_2.4                390d21f8-e58b-4fac-9c55-d7ceda621326  base  unsupported         spark-mllib_3.3\n",
      "autoai-ts_rt22.2-py3.10        396b2e83-0953-5b86-9a55-7ce1628a406f  base  supported\n",
      "xgboost_0.82-py3.6             39e31acd-5f30-41dc-ae44-60233c80306e  base  unsupported         runtime-22.1-py3.9\n",
      "pytorch-onnx_1.2-py3.6-edt     40589d0e-7019-4e28-8daa-fb03b6f4fe12  base  unsupported\n",
      "pytorch-onnx_rt22.2-py3.10     40e73f55-783a-5535-b3fa-0c8b94291431  base  supported\n",
      "default_r36py38                41c247d3-45f8-5a71-b065-8580229facf0  base  not_provided\n",
      "autoai-ts_rt22.1-py3.9         4269d26e-07ba-5d40-8f66-2d495b0c71f7  base  supported\n",
      "autoai-obm_3.0                 42b92e18-d9ab-567f-988a-4240ba1ed5f7  base  unsupported         autoai-obm_3.2\n",
      "pmml-3.0_4.3                   493bcb95-16f1-5bc5-bee8-81b8af80e9c7  base  supported\n",
      "spark-mllib_2.4-r_3.6          49403dff-92e9-4c87-a3d7-a42d0021c095  base  unsupported         spark-mllib_3.3\n",
      "xgboost_0.90-py3.6             4ff8d6c2-1343-4c18-85e1-689c965304d3  base  unsupported         runtime-22.1-py3.9\n",
      "pytorch-onnx_1.1-py3.6         50f95b2a-bc16-43bb-bc94-b0bed208c60b  base  unsupported         runtime-22.1-py3.9\n",
      "autoai-ts_3.9-py3.8            52c57136-80fa-572e-8728-a5e7cbb42cde  base  unsupported         autoai-ts_rt22.1-py3.9\n",
      "spark-mllib_2.4-scala_2.11     55a70f99-7320-4be5-9fb9-9edb5a443af5  base  unsupported         spark-mllib_3.3\n",
      "spark-mllib_3.0                5c1b0ca2-4977-5c2e-9439-ffd44ea8ffe9  base  unsupported         spark-mllib_3.3\n",
      "autoai-obm_2.0                 5c2e37fa-80b8-5e77-840f-d912469614ee  base  unsupported         autoai-obm_3.2\n",
      "spss-modeler_18.1              5c3cad7e-507f-4b2a-a9a3-ab53a21dee8b  base  supported\n",
      "cuda-py3.8                     5d3232bf-c86b-5df4-a2cd-7bb870a1cd4e  base  not_provided\n",
      "runtime-22.2-py3.10-xc         5e8cddff-db4a-5a6a-b8aa-2d4af9864dab  base  supported\n",
      "autoai-kb_3.1-py3.7            632d4b22-10aa-5180-88f0-f52dfb6444d7  base  unsupported         autoai-kb_rt22.1-py3.9\n",
      "-----------------------------  ------------------------------------  ----  ------------------  -------------------------------\n",
      "Note: Only first 50 records were displayed. To display more use 'limit' parameter.\n"
     ]
    }
   ],
   "source": [
    "client.software_specifications.list()"
   ]
  },
  {
   "cell_type": "code",
   "execution_count": 47,
   "id": "2cfc0b6e",
   "metadata": {},
   "outputs": [
    {
     "data": {
      "text/plain": [
       "'12b83a17-24d8-5082-900f-0ab31fbfd3cb'"
      ]
     },
     "execution_count": 47,
     "metadata": {},
     "output_type": "execute_result"
    }
   ],
   "source": [
    "software_spec_uid = client.software_specifications.get_uid_by_name('runtime-22.1-py3.9')\n",
    "software_spec_uid"
   ]
  },
  {
   "cell_type": "code",
   "execution_count": 48,
   "id": "af7959bf",
   "metadata": {},
   "outputs": [
    {
     "name": "stdout",
     "output_type": "stream",
     "text": [
      "This method is deprecated, please use get_model_id()\n"
     ]
    }
   ],
   "source": [
    "model_details = client.repository.store_model(model=rg, meta_props={\n",
    "\n",
    "client.repository.ModelMetaNames.NAME: \"ecom-pred\",\n",
    "\n",
    "client.repository.ModelMetaNames.TYPE: \"scikit-learn_1.0\",\n",
    "\n",
    "client.repository.ModelMetaNames.SOFTWARE_SPEC_UID: software_spec_uid })\n",
    "\n",
    "model_id=client.repository.get_model_uid(model_details)"
   ]
  },
  {
   "cell_type": "code",
   "execution_count": 16,
   "id": "26c9f229",
   "metadata": {},
   "outputs": [
    {
     "name": "stdout",
     "output_type": "stream",
     "text": [
      "Scoring response\n",
      "{'predictions': [{'fields': ['prediction'], 'values': [[1]]}]}\n",
      "Reached in time\n"
     ]
    }
   ],
   "source": [
    "import requests\n",
    "\n",
    "# NOTE: you must manually set API_KEY below using information retrieved from your IBM Cloud account.\n",
    "API_KEY = \"API_KEY\"\n",
    "token_response = requests.post('https://iam.cloud.ibm.com/identity/token', data={\"apikey\":\n",
    " API_KEY, \"grant_type\": 'urn:ibm:params:oauth:grant-type:apikey'})\n",
    "mltoken = token_response.json()[\"access_token\"]\n",
    "\n",
    "header = {'Content-Type': 'application/json', 'Authorization': 'Bearer ' + mltoken}\n",
    "\n",
    "# NOTE: manually define and pass the array(s) of values to be scored in the next line\n",
    "payload_scoring = {\"input_data\": [{\"field\": [['Warehouse_block', 'Mode_of_Shipment', 'Customer_care_calls',\n",
    "       'Customer_rating', 'Cost_of_the_Product', 'Prior_purchases',\n",
    "       'Product_importance', 'Gender', 'Discount_offered', 'Weight_in_gms']], \"values\": [[0.00000000e+00, 4.60829493e-04, 2.76497696e-03, 9.21658986e-04,\n",
    "       1.29032258e-01, 1.84331797e-03, 0.00000000e+00, 4.60829493e-04,\n",
    "       4.60829493e-03, 8.59907834e-01]]}]}\n",
    "\n",
    "response_scoring = requests.post('YOUR_ENDPOINT_LINK', json=payload_scoring,\n",
    " headers={'Authorization': 'Bearer ' + mltoken})\n",
    "print(\"Scoring response\")\n",
    "response = response_scoring.json()\n",
    "if response['predictions'][0]['values'][0][0]==1:\n",
    "    print('Reached in time')\n",
    "else:\n",
    "    print('Not reached in time')"
   ]
  }
 ],
 "metadata": {
  "kernelspec": {
   "display_name": "Python 3 (ipykernel)",
   "language": "python",
   "name": "python3"
  },
  "language_info": {
   "codemirror_mode": {
    "name": "ipython",
    "version": 3
   },
   "file_extension": ".py",
   "mimetype": "text/x-python",
   "name": "python",
   "nbconvert_exporter": "python",
   "pygments_lexer": "ipython3",
   "version": "3.9.12"
  }
 },
 "nbformat": 4,
 "nbformat_minor": 5
}
